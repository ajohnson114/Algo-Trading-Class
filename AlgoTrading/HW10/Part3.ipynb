{
 "cells": [
  {
   "cell_type": "markdown",
   "id": "bac2a059",
   "metadata": {},
   "source": [
    "## Simple Max Difference\n",
    "\n",
    "Determine the maximum positive difference of a stock given it's price history. \n",
    "\n",
    "Ex1: [7,1,2,5] the max positive difference is 4\n",
    "\n",
    "Ex2: [7,5,2,1] the max positive difference is -1 since there's no positive difference greater than 0\n",
    "return -1\n"
   ]
  },
  {
   "cell_type": "code",
   "execution_count": null,
   "id": "f141fca8",
   "metadata": {},
   "outputs": [],
   "source": [
    "#!/bin/python3\n",
    "\n",
    "import math\n",
    "import os\n",
    "import random\n",
    "import re\n",
    "import sys\n",
    "\n",
    "\n",
    "#\n",
    "# Complete the 'maxDifference' function below.\n",
    "#\n",
    "# The function is expected to return an INTEGER.\n",
    "# The function accepts INTEGER_ARRAY px as parameter.\n",
    "#\n",
    "\n",
    "def maxDifference(px):\n",
    "    big = px[-1]\n",
    "    maxprofit = 0\n",
    "    for i in range(len(px)-2,-1,-1):\n",
    "        if px[i] == px[i+1] :\n",
    "            continue\n",
    "        if px[i] > big:\n",
    "            big = px[i]\n",
    "        if big - px[i] >0 and big - px[i] > maxprofit:\n",
    "            maxprofit = big - px[i]\n",
    "            \n",
    "    return maxprofit if maxprofit != 0 else -1\n",
    "            \n",
    "if __name__ == '__main__':\n",
    "    fptr = open(os.environ['OUTPUT_PATH'], 'w')\n",
    "\n",
    "    px_count = int(input().strip())\n",
    "\n",
    "    px = []\n",
    "\n",
    "    for _ in range(px_count):\n",
    "        px_item = int(input().strip())\n",
    "        px.append(px_item)\n",
    "\n",
    "    result = maxDifference(px)\n",
    "\n",
    "    fptr.write(str(result) + '\\n')\n",
    "\n",
    "    fptr.close()\n"
   ]
  }
 ],
 "metadata": {
  "kernelspec": {
   "display_name": "Python 3 (ipykernel)",
   "language": "python",
   "name": "python3"
  },
  "language_info": {
   "codemirror_mode": {
    "name": "ipython",
    "version": 3
   },
   "file_extension": ".py",
   "mimetype": "text/x-python",
   "name": "python",
   "nbconvert_exporter": "python",
   "pygments_lexer": "ipython3",
   "version": "3.8.12"
  }
 },
 "nbformat": 4,
 "nbformat_minor": 5
}
