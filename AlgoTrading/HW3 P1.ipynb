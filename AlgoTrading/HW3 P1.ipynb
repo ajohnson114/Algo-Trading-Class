{
 "cells": [
  {
   "cell_type": "code",
   "execution_count": 27,
   "id": "c4db02d1",
   "metadata": {},
   "outputs": [],
   "source": [
    "from copy import deepcopy\n",
    "import itertools\n",
    "\n",
    "class OrderManager:\n",
    "    def __init__(self):\n",
    "        # you will define the data structure you need to answer this problem\n",
    "        # you will certainly have a counter for the order id that you will generate with Order Manager\n",
    "        self.orderbook = []\n",
    "        self.buyorders = []\n",
    "        self.sellorders = []\n",
    "        self.ordercounter = 0\n",
    "        self.buyvolume = 0\n",
    "        self.sellvolume = 0\n",
    "        self.filled = 0\n",
    "        self.positions = 0\n",
    "        self.holdings = 0\n",
    "        \n",
    "    def give_id(self):\n",
    "        return lambda x=itertools.count(): next(x)\n",
    "\n",
    "    def handle_order_from_ts(self,o):\n",
    "        # you will certainly generate a new order id and attached this order id to the order o\n",
    "        # you will certainly define a state new for this order o\n",
    "        # you will certainly append this order to the data structure\n",
    "        o = deepcopy(o)\n",
    "        counter = self.ordercounter\n",
    "        o['id'] = counter +1\n",
    "        o['state'] = 'new'\n",
    "        self.ordercounter += 1\n",
    "        self.orderbook.append(o)\n",
    "        if o['side'] == \"buy\":\n",
    "            self.buyvolume += o['quantity'] * o['price']\n",
    "            self.buyorders.append(o)\n",
    "        else:\n",
    "            self.sellvolume += o['quantity'] * o['price']\n",
    "            self.sellorders.append(o)\n",
    "            \n",
    "    def handle_order_from_market(self,o):\n",
    "        # you will handle the order response o\n",
    "        # you will modify the state of the orders in the data structure\n",
    "        found = 0\n",
    "        print(self.orderbook)\n",
    "        for i in self.orderbook:\n",
    "            if i['id'] == o['id']:\n",
    "                found = 1\n",
    "                i['state'] = o['state']\n",
    "                if o['state'] == 'filled':\n",
    "                    x = o['price'] * o['quantity']\n",
    "                    self.holdings += deepcopy(x)\n",
    "                    self.filled += 1\n",
    "                    if o['side'] == \"buy\":\n",
    "                        y = deepcopy(o['quantity'])\n",
    "                        self.positions += y\n",
    "                    elif o['side'] == 'sell':\n",
    "                        z = deepcopy(o['quantity'])\n",
    "                        self.positions -= z\n",
    "                        \n",
    "                break\n",
    "        if not found:\n",
    "            print(\"order id {} not found\".format(o['id']))\n",
    "    def get_positions(self):\n",
    "        # you will return the position\n",
    "        return self.positions\n",
    "    def get_holdings(self):\n",
    "        # you will return the holdings\n",
    "        return self.holdings\n",
    "    def get_total_filled(self):\n",
    "        #you will return the number of filled orders\n",
    "        return self.filled\n",
    "    def get_unacknowledged_orders(self):\n",
    "        # you will follow the instructions above\n",
    "        return sum([1 for i in self.orderbook if i['state'] == 'new'])\n",
    "    \n",
    "    def get_unacknowledged_buy_volume(self):\n",
    "        # you will follow the instructions above\n",
    "        return self.buyvolume\n",
    "    \n",
    "    def get_unacknowledged_sell_volume(self):\n",
    "        # you will follow the instructions above\n",
    "        return self.sellvolume\n",
    "\n"
   ]
  },
  {
   "cell_type": "code",
   "execution_count": 28,
   "id": "cbefa6bf",
   "metadata": {},
   "outputs": [],
   "source": [
    "def test1(): #0\n",
    "    om=OrderManager()\n",
    "    o1={'quantity' : 100, 'price' : 10, 'side' : 'buy'}\n",
    "    om.handle_order_from_ts(o1)\n",
    "    print('New order' + str(om.get_unacknowledged_orders()))\n",
    "    o1['quantity'] = 5\n",
    "    o1['price']=5\n",
    "    om.handle_order_from_ts(o1)\n",
    "    print('New order' + str(om.get_unacknowledged_orders()))\n",
    "    print('Unacknowledged volume for buy in $:' + str(om.get_unacknowledged_buy_volume()))\n",
    "    print('Unacknowledged volume for sell in $:' + str(om.get_unacknowledged_sell_volume()))\n",
    "    o1['side'] = 'sell'\n",
    "    om.handle_order_from_ts(o1)\n",
    "    print('Unacknowledged volume for buy in $:' + str(om.get_unacknowledged_buy_volume()))\n",
    "    print('Unacknowledged volume for sell in $:' + str(om.get_unacknowledged_sell_volume()))\n",
    "    print('Unacknowledged #:' + str(om.get_unacknowledged_orders()))\n",
    "\n",
    "    return om\n",
    "\n"
   ]
  },
  {
   "cell_type": "code",
   "execution_count": 29,
   "id": "2c5f8131",
   "metadata": {},
   "outputs": [
    {
     "name": "stdout",
     "output_type": "stream",
     "text": [
      "New order1\n",
      "New order2\n",
      "Unacknowledged volume for buy in $:1025\n",
      "Unacknowledged volume for sell in $:0\n",
      "Unacknowledged volume for buy in $:1025\n",
      "Unacknowledged volume for sell in $:25\n",
      "Unacknowledged #:3\n"
     ]
    },
    {
     "data": {
      "text/plain": [
       "<__main__.OrderManager at 0x10729b8e0>"
      ]
     },
     "execution_count": 29,
     "metadata": {},
     "output_type": "execute_result"
    }
   ],
   "source": [
    "test1()"
   ]
  },
  {
   "cell_type": "code",
   "execution_count": 30,
   "id": "37784342",
   "metadata": {},
   "outputs": [],
   "source": [
    "def test2(): #1\n",
    "    om=test1()\n",
    "    o1 = {'quantity': 100, 'price': 10, 'side': 'buy' , 'id' : 1 , 'state' : 'filled'}\n",
    "    om.handle_order_from_market(o1)\n",
    "    print('Number of fills:' + str(om.get_total_filled()))\n",
    "    o1['id']=2\n",
    "    o1['state']='cancelled'\n",
    "    om.handle_order_from_market(o1)\n",
    "    print('Number of fills:' + str(om.get_total_filled()))\n",
    "    print('Unacknowledged #:' + str(om.get_unacknowledged_orders()))\n",
    "    o1['id'] = 3\n",
    "    o1['state'] = 'rejected'\n",
    "    om.handle_order_from_market(o1)\n",
    "    print('Number of fills:' + str(om.get_total_filled()))\n",
    "    print('Unacknowledged #:' + str(om.get_unacknowledged_orders()))"
   ]
  },
  {
   "cell_type": "code",
   "execution_count": 31,
   "id": "83e6c005",
   "metadata": {},
   "outputs": [
    {
     "name": "stdout",
     "output_type": "stream",
     "text": [
      "New order1\n",
      "New order2\n",
      "Unacknowledged volume for buy in $:1025\n",
      "Unacknowledged volume for sell in $:0\n",
      "Unacknowledged volume for buy in $:1025\n",
      "Unacknowledged volume for sell in $:25\n",
      "Unacknowledged #:3\n",
      "[{'quantity': 100, 'price': 10, 'side': 'buy', 'id': 1, 'state': 'new'}, {'quantity': 5, 'price': 5, 'side': 'buy', 'id': 2, 'state': 'new'}, {'quantity': 5, 'price': 5, 'side': 'sell', 'id': 3, 'state': 'new'}]\n",
      "Number of fills:1\n",
      "[{'quantity': 100, 'price': 10, 'side': 'buy', 'id': 1, 'state': 'filled'}, {'quantity': 5, 'price': 5, 'side': 'buy', 'id': 2, 'state': 'new'}, {'quantity': 5, 'price': 5, 'side': 'sell', 'id': 3, 'state': 'new'}]\n",
      "Number of fills:1\n",
      "Unacknowledged #:1\n",
      "[{'quantity': 100, 'price': 10, 'side': 'buy', 'id': 1, 'state': 'filled'}, {'quantity': 5, 'price': 5, 'side': 'buy', 'id': 2, 'state': 'cancelled'}, {'quantity': 5, 'price': 5, 'side': 'sell', 'id': 3, 'state': 'new'}]\n",
      "Number of fills:1\n",
      "Unacknowledged #:0\n"
     ]
    }
   ],
   "source": [
    "test2()"
   ]
  },
  {
   "cell_type": "code",
   "execution_count": 32,
   "id": "31802ec2",
   "metadata": {},
   "outputs": [],
   "source": [
    "def test3(): #2\n",
    "    om=test1()\n",
    "    o1 = {'quantity': 100, 'price': 10, 'side': 'buy' , 'id' : 4 , 'state' : 'filled'}\n",
    "    om.handle_order_from_market(o1)"
   ]
  },
  {
   "cell_type": "code",
   "execution_count": 33,
   "id": "0a79653d",
   "metadata": {},
   "outputs": [
    {
     "name": "stdout",
     "output_type": "stream",
     "text": [
      "New order1\n",
      "New order2\n",
      "Unacknowledged volume for buy in $:1025\n",
      "Unacknowledged volume for sell in $:0\n",
      "Unacknowledged volume for buy in $:1025\n",
      "Unacknowledged volume for sell in $:25\n",
      "Unacknowledged #:3\n",
      "[{'quantity': 100, 'price': 10, 'side': 'buy', 'id': 1, 'state': 'new'}, {'quantity': 5, 'price': 5, 'side': 'buy', 'id': 2, 'state': 'new'}, {'quantity': 5, 'price': 5, 'side': 'sell', 'id': 3, 'state': 'new'}]\n",
      "order id 4 not found\n"
     ]
    }
   ],
   "source": [
    "test3()"
   ]
  },
  {
   "cell_type": "code",
   "execution_count": 40,
   "id": "c79a5e67",
   "metadata": {},
   "outputs": [],
   "source": [
    "def test4(): #3\n",
    "    om=test1()\n",
    "    o1 = {'quantity': 100, 'price': 10, 'side': 'buy' , 'id' : 1 , 'state' : 'filled'}\n",
    "    om.handle_order_from_market(o1)\n",
    "    print('Number of fills:' + str(om.get_total_filled()))\n",
    "    print('Total position:' + str(om.get_positions()))\n",
    "    print('Total holdings in $' + str(om.get_holdings()))\n",
    "    o1['id']=3\n",
    "    o1['state']='filled'\n",
    "    om.handle_order_from_market(o1)\n",
    "    print('Number of fills:' + str(om.get_total_filled()))\n",
    "    print('Total position:' + str(om.get_positions()))\n",
    "    print('Total holdings in $' + str(om.get_holdings()))"
   ]
  },
  {
   "cell_type": "code",
   "execution_count": 41,
   "id": "7f147f45",
   "metadata": {},
   "outputs": [
    {
     "name": "stdout",
     "output_type": "stream",
     "text": [
      "New order1\n",
      "New order2\n",
      "Unacknowledged volume for buy in $:1025\n",
      "Unacknowledged volume for sell in $:0\n",
      "Unacknowledged volume for buy in $:1025\n",
      "Unacknowledged volume for sell in $:25\n",
      "Unacknowledged #:3\n",
      "[{'quantity': 100, 'price': 10, 'side': 'buy', 'id': 1, 'state': 'new'}, {'quantity': 5, 'price': 5, 'side': 'buy', 'id': 2, 'state': 'new'}, {'quantity': 5, 'price': 5, 'side': 'sell', 'id': 3, 'state': 'new'}]\n",
      "Number of fills:1\n",
      "Total position:100\n",
      "Total holdings in $1000\n",
      "[{'quantity': 100, 'price': 10, 'side': 'buy', 'id': 1, 'state': 'filled'}, {'quantity': 5, 'price': 5, 'side': 'buy', 'id': 2, 'state': 'new'}, {'quantity': 5, 'price': 5, 'side': 'sell', 'id': 3, 'state': 'new'}]\n",
      "Number of fills:2\n",
      "Total position:200\n",
      "Total holdings in $2000\n"
     ]
    }
   ],
   "source": [
    "test4()"
   ]
  },
  {
   "cell_type": "code",
   "execution_count": null,
   "id": "72c1117c",
   "metadata": {},
   "outputs": [],
   "source": []
  }
 ],
 "metadata": {
  "kernelspec": {
   "display_name": "Python 3",
   "language": "python",
   "name": "python3"
  },
  "language_info": {
   "codemirror_mode": {
    "name": "ipython",
    "version": 3
   },
   "file_extension": ".py",
   "mimetype": "text/x-python",
   "name": "python",
   "nbconvert_exporter": "python",
   "pygments_lexer": "ipython3",
   "version": "3.8.12"
  }
 },
 "nbformat": 4,
 "nbformat_minor": 5
}
