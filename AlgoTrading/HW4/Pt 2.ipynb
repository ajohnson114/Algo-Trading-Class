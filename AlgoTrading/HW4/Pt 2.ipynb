{
 "cells": [
  {
   "cell_type": "code",
   "execution_count": 26,
   "id": "bb773543",
   "metadata": {},
   "outputs": [],
   "source": [
    "x = pd.read_csv(\"input001.txt\",sep = \"\\t\")"
   ]
  },
  {
   "cell_type": "code",
   "execution_count": 27,
   "id": "ba457b1a",
   "metadata": {},
   "outputs": [
    {
     "name": "stdout",
     "output_type": "stream",
     "text": [
      "          Date       Close    Volume\n",
      "0   2020-01-02  160.619995  22622100\n",
      "1   2020-01-03  158.619995  21116200\n",
      "2   2020-01-06  159.029999  20813700\n",
      "3   2020-01-07  157.580002  21634100\n",
      "4   2020-01-08  160.089996  27746500\n",
      "5   2020-01-09  162.089996  21385000\n",
      "6   2020-01-10  161.339996  20725900\n",
      "7   2020-01-13  163.279999  21626500\n",
      "8   2020-01-14  162.130005  23477400\n",
      "9   2020-01-15  163.179993  21417900\n",
      "10  2020-01-16  166.169998  23865400\n",
      "11  2020-01-17  167.100006  34371700\n",
      "12  2020-01-21  166.500000  29517200\n",
      "13  2020-01-22  165.699997  24138800\n",
      "14  2020-01-23  166.720001  19680800\n",
      "15  2020-01-24  165.039993  24918100\n",
      "16  2020-01-27  162.279999  32078100\n",
      "17  2020-01-28  165.460007  24899900\n",
      "18  2020-01-29  168.039993  34754500\n",
      "19  2020-01-30  172.779999  51597500\n",
      "20  2020-01-31  170.229996  36142700\n",
      "21  2020-02-03  174.380005  30107000\n",
      "22  2020-02-04  180.119995  36433300\n",
      "23  2020-02-05  179.899994  39186300\n",
      "24  2020-02-06  183.630005  27751400\n",
      "25  2020-02-07  183.889999  33529100\n",
      "26  2020-02-10  188.699997  35844300\n",
      "27  2020-02-11  184.440002  53159900\n",
      "28  2020-02-12  184.710007  47062900\n",
      "29  2020-02-13  183.710007  35295800\n",
      "30  2020-02-14  185.350006  23149500\n",
      "31  2020-02-18  187.229996  27792200\n",
      "32  2020-02-19  187.279999  29997500\n",
      "33  2020-02-20  184.419998  36862400\n",
      "34  2020-02-21  178.589996  48572600\n",
      "35  2020-02-24  170.889999  68311100\n",
      "36  2020-02-25  168.070007  68073300\n",
      "37  2020-02-26  170.169998  56206100\n",
      "38  2020-02-27  158.179993  93174900\n",
      "39  2020-02-28  162.009995  97012700\n",
      "40  2020-03-02  172.789993  71030800\n",
      "41  2020-03-03  164.509995  71677000\n",
      "42  2020-03-04  170.550003  49814400\n",
      "43  2020-03-05  166.270004  47817300\n",
      "44  2020-03-06  161.570007  72821100\n",
      "45  2020-03-09  150.619995  70419300\n",
      "46  2020-03-10  160.919998  65354400\n",
      "47  2020-03-11  153.630005  56371600\n",
      "48  2020-03-12  139.059998  93226400\n",
      "49  2020-03-13  158.830002  92727400\n",
      "50  2020-03-16  135.419998  87905900\n"
     ]
    }
   ],
   "source": [
    "print(x)"
   ]
  },
  {
   "cell_type": "code",
   "execution_count": 28,
   "id": "bec91eaa",
   "metadata": {},
   "outputs": [
    {
     "data": {
      "text/plain": [
       "(51, 3)"
      ]
     },
     "execution_count": 28,
     "metadata": {},
     "output_type": "execute_result"
    }
   ],
   "source": [
    "x.shape"
   ]
  },
  {
   "cell_type": "code",
   "execution_count": 19,
   "id": "0437d927",
   "metadata": {},
   "outputs": [],
   "source": [
    "#!/bin/python3\n",
    "import math\n",
    "import os\n",
    "import random\n",
    "import re\n",
    "import sys\n",
    "import datetime\n",
    "import pandas as pd\n",
    "import numpy as np\n",
    "import random\n",
    "random.seed(6666)\n",
    "def random_data(financial_data):\n",
    "    # You are going to create a new dataframe signals\n",
    "    # you will implement here the logic\n",
    "    signals = []\n",
    "    for i in range(len(financial_data)):\n",
    "        if i%4==0:\n",
    "            signals.append(0)\n",
    "        else:\n",
    "            signals.append(1)\n",
    "    signals = np.array(signals)\n",
    "    signals = pd.DataFrame(signals, columns=['signal'])\n",
    "    signals['orders'] = signals['signal'].diff()\n",
    "    return signals"
   ]
  },
  {
   "cell_type": "code",
   "execution_count": 29,
   "id": "101a26fd",
   "metadata": {},
   "outputs": [],
   "source": [
    "signals = random_data(x)"
   ]
  },
  {
   "cell_type": "code",
   "execution_count": 33,
   "id": "d4a150a7",
   "metadata": {},
   "outputs": [
    {
     "data": {
      "text/plain": [
       "1     1\n",
       "2     1\n",
       "3     1\n",
       "4     0\n",
       "5     1\n",
       "6     1\n",
       "7     1\n",
       "8     0\n",
       "9     1\n",
       "10    1\n",
       "11    1\n",
       "12    0\n",
       "13    1\n",
       "14    1\n",
       "15    1\n",
       "16    0\n",
       "17    1\n",
       "18    1\n",
       "19    1\n",
       "20    0\n",
       "21    1\n",
       "22    1\n",
       "23    1\n",
       "24    0\n",
       "25    1\n",
       "26    1\n",
       "27    1\n",
       "28    0\n",
       "29    1\n",
       "30    1\n",
       "31    1\n",
       "32    0\n",
       "33    1\n",
       "34    1\n",
       "35    1\n",
       "36    0\n",
       "37    1\n",
       "38    1\n",
       "39    1\n",
       "40    0\n",
       "41    1\n",
       "42    1\n",
       "43    1\n",
       "44    0\n",
       "45    1\n",
       "46    1\n",
       "47    1\n",
       "48    0\n",
       "49    1\n",
       "50    1\n",
       "Name: signal, dtype: int64"
      ]
     },
     "execution_count": 33,
     "metadata": {},
     "output_type": "execute_result"
    }
   ],
   "source": [
    "signals['signal'][1:]"
   ]
  },
  {
   "cell_type": "code",
   "execution_count": 34,
   "id": "e9642799",
   "metadata": {},
   "outputs": [],
   "source": [
    "def calculate_holding_cash(financial_data,signals):\n",
    "    # You are going to set your initial amount of money you want\n",
    "    # to invest --- here it is 10,000\n",
    "    startingcash = 10_000\n",
    "    signals['stockprice'] = financial_data.Close\n",
    "    # You are going to create a new dataframe positions\n",
    "    # Remember the index is still the same as signals\n",
    "    positions = pd.DataFrame(data = signals,index=signals.index)\n",
    "    cash = [startingcash] + [0 for i in range(49)]\n",
    "    positions['cash'] = cash\n",
    "    positions['holdings'] = [0] + 10*(signals[\"stockprice\"][1:])*(signals['stockprice'][1:])\n",
    "    portfolio = pd.DataFrame()\n",
    "    # You are going to buy 10 shares of the stock when signal is 1\n",
    "    # You are going to sell 10 shares of the stock when signal is -1\n",
    "    # You will assign these values to the column stock of the\n",
    "    # dataframe positions\n",
    "    \n",
    "\n",
    "    # You are now going to calculate the notional (quantity x price)\n",
    "    # for your portfolio. You will multiply Close from\n",
    "    # the dataframe containing prices and the positions (10 shares)\n",
    "    # You will store it into the variable portfolio\n",
    "   \n",
    "    # Add `holdings` to portfolio\n",
    "   \n",
    "    # You will store positions.diff into pos_diff\n",
    "   \n",
    "    # You will now add a column cash in your dataframe portfolio\n",
    "    # which will calculate the amount of cash you have\n",
    "    # initial_capital - (the notional you use for your different buy/sell)\n",
    "    \n",
    "    # You will now add a column total to your portfolio calculating the part of holding\n",
    "    # and the part of cash\n",
    "    \n",
    "    # Add `returns` to portfolio\n",
    "    \n",
    "    print(positions)\n",
    "    print(portfolio)\n",
    "    return portfolio\n",
    "\n"
   ]
  },
  {
   "cell_type": "code",
   "execution_count": 35,
   "id": "8a791633",
   "metadata": {},
   "outputs": [
    {
     "ename": "ValueError",
     "evalue": "Length of values (50) does not match length of index (51)",
     "output_type": "error",
     "traceback": [
      "\u001b[0;31m---------------------------------------------------------------------------\u001b[0m",
      "\u001b[0;31mValueError\u001b[0m                                Traceback (most recent call last)",
      "\u001b[0;32m<ipython-input-35-f41d0300e5fd>\u001b[0m in \u001b[0;36m<module>\u001b[0;34m\u001b[0m\n\u001b[0;32m----> 1\u001b[0;31m \u001b[0mcalculate_holding_cash\u001b[0m\u001b[0;34m(\u001b[0m\u001b[0mx\u001b[0m\u001b[0;34m,\u001b[0m\u001b[0msignals\u001b[0m\u001b[0;34m)\u001b[0m\u001b[0;34m\u001b[0m\u001b[0;34m\u001b[0m\u001b[0m\n\u001b[0m",
      "\u001b[0;32m<ipython-input-34-4554e9090675>\u001b[0m in \u001b[0;36mcalculate_holding_cash\u001b[0;34m(financial_data, signals)\u001b[0m\n\u001b[1;32m      8\u001b[0m     \u001b[0mpositions\u001b[0m \u001b[0;34m=\u001b[0m \u001b[0mpd\u001b[0m\u001b[0;34m.\u001b[0m\u001b[0mDataFrame\u001b[0m\u001b[0;34m(\u001b[0m\u001b[0mdata\u001b[0m \u001b[0;34m=\u001b[0m \u001b[0msignals\u001b[0m\u001b[0;34m,\u001b[0m\u001b[0mindex\u001b[0m\u001b[0;34m=\u001b[0m\u001b[0msignals\u001b[0m\u001b[0;34m.\u001b[0m\u001b[0mindex\u001b[0m\u001b[0;34m)\u001b[0m\u001b[0;34m\u001b[0m\u001b[0;34m\u001b[0m\u001b[0m\n\u001b[1;32m      9\u001b[0m     \u001b[0mcash\u001b[0m \u001b[0;34m=\u001b[0m \u001b[0;34m[\u001b[0m\u001b[0mstartingcash\u001b[0m\u001b[0;34m]\u001b[0m \u001b[0;34m+\u001b[0m \u001b[0;34m[\u001b[0m\u001b[0;36m0\u001b[0m \u001b[0;32mfor\u001b[0m \u001b[0mi\u001b[0m \u001b[0;32min\u001b[0m \u001b[0mrange\u001b[0m\u001b[0;34m(\u001b[0m\u001b[0;36m49\u001b[0m\u001b[0;34m)\u001b[0m\u001b[0;34m]\u001b[0m\u001b[0;34m\u001b[0m\u001b[0;34m\u001b[0m\u001b[0m\n\u001b[0;32m---> 10\u001b[0;31m     \u001b[0mpositions\u001b[0m\u001b[0;34m[\u001b[0m\u001b[0;34m'cash'\u001b[0m\u001b[0;34m]\u001b[0m \u001b[0;34m=\u001b[0m \u001b[0mcash\u001b[0m\u001b[0;34m\u001b[0m\u001b[0;34m\u001b[0m\u001b[0m\n\u001b[0m\u001b[1;32m     11\u001b[0m     \u001b[0mpositions\u001b[0m\u001b[0;34m[\u001b[0m\u001b[0;34m'holdings'\u001b[0m\u001b[0;34m]\u001b[0m \u001b[0;34m=\u001b[0m \u001b[0;34m[\u001b[0m\u001b[0;36m0\u001b[0m\u001b[0;34m]\u001b[0m \u001b[0;34m+\u001b[0m \u001b[0;36m10\u001b[0m\u001b[0;34m*\u001b[0m\u001b[0;34m(\u001b[0m\u001b[0msignals\u001b[0m\u001b[0;34m[\u001b[0m\u001b[0;34m\"stockprice\"\u001b[0m\u001b[0;34m]\u001b[0m\u001b[0;34m[\u001b[0m\u001b[0;36m1\u001b[0m\u001b[0;34m:\u001b[0m\u001b[0;34m]\u001b[0m\u001b[0;34m)\u001b[0m\u001b[0;34m*\u001b[0m\u001b[0;34m(\u001b[0m\u001b[0msignals\u001b[0m\u001b[0;34m[\u001b[0m\u001b[0;34m'stockprice'\u001b[0m\u001b[0;34m]\u001b[0m\u001b[0;34m[\u001b[0m\u001b[0;36m1\u001b[0m\u001b[0;34m:\u001b[0m\u001b[0;34m]\u001b[0m\u001b[0;34m)\u001b[0m\u001b[0;34m\u001b[0m\u001b[0;34m\u001b[0m\u001b[0m\n\u001b[1;32m     12\u001b[0m     \u001b[0mportfolio\u001b[0m \u001b[0;34m=\u001b[0m \u001b[0mpd\u001b[0m\u001b[0;34m.\u001b[0m\u001b[0mDataFrame\u001b[0m\u001b[0;34m(\u001b[0m\u001b[0;34m)\u001b[0m\u001b[0;34m\u001b[0m\u001b[0;34m\u001b[0m\u001b[0m\n",
      "\u001b[0;32m~/miniforge3/envs/tf_m1/lib/python3.8/site-packages/pandas/core/frame.py\u001b[0m in \u001b[0;36m__setitem__\u001b[0;34m(self, key, value)\u001b[0m\n\u001b[1;32m   3610\u001b[0m         \u001b[0;32melse\u001b[0m\u001b[0;34m:\u001b[0m\u001b[0;34m\u001b[0m\u001b[0;34m\u001b[0m\u001b[0m\n\u001b[1;32m   3611\u001b[0m             \u001b[0;31m# set column\u001b[0m\u001b[0;34m\u001b[0m\u001b[0;34m\u001b[0m\u001b[0;34m\u001b[0m\u001b[0m\n\u001b[0;32m-> 3612\u001b[0;31m             \u001b[0mself\u001b[0m\u001b[0;34m.\u001b[0m\u001b[0m_set_item\u001b[0m\u001b[0;34m(\u001b[0m\u001b[0mkey\u001b[0m\u001b[0;34m,\u001b[0m \u001b[0mvalue\u001b[0m\u001b[0;34m)\u001b[0m\u001b[0;34m\u001b[0m\u001b[0;34m\u001b[0m\u001b[0m\n\u001b[0m\u001b[1;32m   3613\u001b[0m \u001b[0;34m\u001b[0m\u001b[0m\n\u001b[1;32m   3614\u001b[0m     \u001b[0;32mdef\u001b[0m \u001b[0m_setitem_slice\u001b[0m\u001b[0;34m(\u001b[0m\u001b[0mself\u001b[0m\u001b[0;34m,\u001b[0m \u001b[0mkey\u001b[0m\u001b[0;34m:\u001b[0m \u001b[0mslice\u001b[0m\u001b[0;34m,\u001b[0m \u001b[0mvalue\u001b[0m\u001b[0;34m)\u001b[0m\u001b[0;34m:\u001b[0m\u001b[0;34m\u001b[0m\u001b[0;34m\u001b[0m\u001b[0m\n",
      "\u001b[0;32m~/miniforge3/envs/tf_m1/lib/python3.8/site-packages/pandas/core/frame.py\u001b[0m in \u001b[0;36m_set_item\u001b[0;34m(self, key, value)\u001b[0m\n\u001b[1;32m   3782\u001b[0m         \u001b[0mensure\u001b[0m \u001b[0mhomogeneity\u001b[0m\u001b[0;34m.\u001b[0m\u001b[0;34m\u001b[0m\u001b[0;34m\u001b[0m\u001b[0m\n\u001b[1;32m   3783\u001b[0m         \"\"\"\n\u001b[0;32m-> 3784\u001b[0;31m         \u001b[0mvalue\u001b[0m \u001b[0;34m=\u001b[0m \u001b[0mself\u001b[0m\u001b[0;34m.\u001b[0m\u001b[0m_sanitize_column\u001b[0m\u001b[0;34m(\u001b[0m\u001b[0mvalue\u001b[0m\u001b[0;34m)\u001b[0m\u001b[0;34m\u001b[0m\u001b[0;34m\u001b[0m\u001b[0m\n\u001b[0m\u001b[1;32m   3785\u001b[0m \u001b[0;34m\u001b[0m\u001b[0m\n\u001b[1;32m   3786\u001b[0m         if (\n",
      "\u001b[0;32m~/miniforge3/envs/tf_m1/lib/python3.8/site-packages/pandas/core/frame.py\u001b[0m in \u001b[0;36m_sanitize_column\u001b[0;34m(self, value)\u001b[0m\n\u001b[1;32m   4507\u001b[0m \u001b[0;34m\u001b[0m\u001b[0m\n\u001b[1;32m   4508\u001b[0m         \u001b[0;32mif\u001b[0m \u001b[0mis_list_like\u001b[0m\u001b[0;34m(\u001b[0m\u001b[0mvalue\u001b[0m\u001b[0;34m)\u001b[0m\u001b[0;34m:\u001b[0m\u001b[0;34m\u001b[0m\u001b[0;34m\u001b[0m\u001b[0m\n\u001b[0;32m-> 4509\u001b[0;31m             \u001b[0mcom\u001b[0m\u001b[0;34m.\u001b[0m\u001b[0mrequire_length_match\u001b[0m\u001b[0;34m(\u001b[0m\u001b[0mvalue\u001b[0m\u001b[0;34m,\u001b[0m \u001b[0mself\u001b[0m\u001b[0;34m.\u001b[0m\u001b[0mindex\u001b[0m\u001b[0;34m)\u001b[0m\u001b[0;34m\u001b[0m\u001b[0;34m\u001b[0m\u001b[0m\n\u001b[0m\u001b[1;32m   4510\u001b[0m         \u001b[0;32mreturn\u001b[0m \u001b[0msanitize_array\u001b[0m\u001b[0;34m(\u001b[0m\u001b[0mvalue\u001b[0m\u001b[0;34m,\u001b[0m \u001b[0mself\u001b[0m\u001b[0;34m.\u001b[0m\u001b[0mindex\u001b[0m\u001b[0;34m,\u001b[0m \u001b[0mcopy\u001b[0m\u001b[0;34m=\u001b[0m\u001b[0;32mTrue\u001b[0m\u001b[0;34m,\u001b[0m \u001b[0mallow_2d\u001b[0m\u001b[0;34m=\u001b[0m\u001b[0;32mTrue\u001b[0m\u001b[0;34m)\u001b[0m\u001b[0;34m\u001b[0m\u001b[0;34m\u001b[0m\u001b[0m\n\u001b[1;32m   4511\u001b[0m \u001b[0;34m\u001b[0m\u001b[0m\n",
      "\u001b[0;32m~/miniforge3/envs/tf_m1/lib/python3.8/site-packages/pandas/core/common.py\u001b[0m in \u001b[0;36mrequire_length_match\u001b[0;34m(data, index)\u001b[0m\n\u001b[1;32m    529\u001b[0m     \"\"\"\n\u001b[1;32m    530\u001b[0m     \u001b[0;32mif\u001b[0m \u001b[0mlen\u001b[0m\u001b[0;34m(\u001b[0m\u001b[0mdata\u001b[0m\u001b[0;34m)\u001b[0m \u001b[0;34m!=\u001b[0m \u001b[0mlen\u001b[0m\u001b[0;34m(\u001b[0m\u001b[0mindex\u001b[0m\u001b[0;34m)\u001b[0m\u001b[0;34m:\u001b[0m\u001b[0;34m\u001b[0m\u001b[0;34m\u001b[0m\u001b[0m\n\u001b[0;32m--> 531\u001b[0;31m         raise ValueError(\n\u001b[0m\u001b[1;32m    532\u001b[0m             \u001b[0;34m\"Length of values \"\u001b[0m\u001b[0;34m\u001b[0m\u001b[0;34m\u001b[0m\u001b[0m\n\u001b[1;32m    533\u001b[0m             \u001b[0;34mf\"({len(data)}) \"\u001b[0m\u001b[0;34m\u001b[0m\u001b[0;34m\u001b[0m\u001b[0m\n",
      "\u001b[0;31mValueError\u001b[0m: Length of values (50) does not match length of index (51)"
     ]
    }
   ],
   "source": [
    "calculate_holding_cash(x,signals)"
   ]
  },
  {
   "cell_type": "code",
   "execution_count": null,
   "id": "b90c8133",
   "metadata": {},
   "outputs": [],
   "source": [
    "def test1(data):\n",
    "    df=random_data(data)\n",
    "    fptr.write(df.to_string())\n",
    "\n",
    "def test2(data):\n",
    "    df=random_data(data)\n",
    "    portfolio=calculate_holding_cash(data,df)\n",
    "    fptr.write(portfolio.to_string())\n",
    "    \n",
    "\n",
    "if __name__ == '__main__':\n",
    "    #fptr = open(os.environ['OUTPUT_PATH'], 'w')\n",
    "    fptr = sys.stdout\n",
    "    tmp = input()\n",
    "    row_num = int(input().strip())\n",
    "    Data = []\n",
    "    col_names = list(map(str, input().split('\\t')))\n",
    "    for i in range(row_num):\n",
    "\n",
    "        line=list(map(str, input().split('\\t')))\n",
    "        line[0] = pd.to_datetime(line[0])\n",
    "        line[1] = float(line[1])\n",
    "        line[2] = int(line[2])\n",
    "        Data.append(line)\n",
    "    data = pd.DataFrame(Data, columns= col_names)\n",
    "    data.set_index('Date')\n",
    "    \n",
    "    if tmp == '1':\n",
    "      test1(data)\n",
    "    elif tmp == '2':\n",
    "      test2(data)\n",
    "    else:\n",
    "      raise RuntimeError('invalid input')"
   ]
  },
  {
   "cell_type": "code",
   "execution_count": 16,
   "id": "536d11d6",
   "metadata": {},
   "outputs": [
    {
     "name": "stdout",
     "output_type": "stream",
     "text": [
      "subproblems for idx 1:  [1]\n",
      "subproblems for idx 2:  [1]\n",
      "subproblems for idx 3:  [1, 1]\n",
      "[0, 2, 0, 2]\n"
     ]
    },
    {
     "data": {
      "text/plain": [
       "2"
      ]
     },
     "execution_count": 16,
     "metadata": {},
     "output_type": "execute_result"
    }
   ],
   "source": [
    "price = [1,3,1,2]\n",
    "maximumProfit(price)"
   ]
  },
  {
   "cell_type": "code",
   "execution_count": 15,
   "id": "9a840170",
   "metadata": {},
   "outputs": [],
   "source": [
    "def maximumProfit(price):\n",
    "    # Write your code here\n",
    "    maxprofituptoidx = [0]*len(price)\n",
    "    for i in range(1,len(price)):\n",
    "        subproblems = [price[j] for j in range(i) if price[j] <= price[i]]\n",
    "        #for i in range(len(subproblems)):\n",
    "        #    subproblems[i] = max(subproblems[i],maxprofituptoidx[i])\n",
    "        print(\"subproblems for idx {}: \".format(i), subproblems)\n",
    "        maxprofituptoidx[i] = (len(subproblems)*price[i]) - sum(subproblems)\n",
    "    print(maxprofituptoidx)\n",
    "    return max(maxprofituptoidx, default=0)"
   ]
  },
  {
   "cell_type": "code",
   "execution_count": null,
   "id": "e9ebe521",
   "metadata": {},
   "outputs": [],
   "source": []
  },
  {
   "cell_type": "code",
   "execution_count": null,
   "id": "e2e346e8",
   "metadata": {},
   "outputs": [],
   "source": [
    "def calculate_holding_cash(financial_data,signals):\n",
    "    # You are going to set your initial amount of money you want\n",
    "    # to invest --- here it is 10,000\n",
    "    \n",
    "    initial_amount = 10_000\n",
    "    \n",
    "    # You are going to create a new dataframe positions\n",
    "    # Remember the index is still the same as signals\n",
    "\n",
    "    positions = pd.DataFrame(index=signals.index)\n",
    "    \n",
    "    # You are going to buy 10 shares of the stock when signal is 1\n",
    "    # You are going to sell 10 shares of the stock when signal is -1\n",
    "    # You will assign these values to the column stock of the\n",
    "    # dataframe positions\n",
    "    \n",
    "    positions['stock'] = 10*signals['signal']\n",
    "\n",
    "    # You are now going to calculate the notional (quantity x price)\n",
    "    # for your portfolio. You will multiply Close from\n",
    "    # the dataframe containing prices and the positions (10 shares)\n",
    "    # You will store it into the variable portfolio\n",
    "    # Add `holdings` to portfolio\n",
    "    \n",
    "    portfolio['holdings'] = financial_data['Close'] * positions['stock']\n",
    "\n",
    "    # You will store positions.diff into pos_diff\n",
    "    positions['pos_diff'] = positions['holdings'].diff()\n",
    "    # You will now add a column cash in your dataframe portfolio\n",
    "    # which will calculate the amount of cash you have\n",
    "    # initial_capital - (the notional you use for your different buy/sell)\n",
    "    portfolio['cash'] = 10_000 - positions['pos_diff']\n",
    "    \n",
    "    # You will now add a column total to your portfolio calculating the part of holding\n",
    "    # and the part of cash\n",
    "    portfolio['total'] = pass\n",
    "    \n",
    "    # Add `returns` to portfolio\n",
    "    portfolio.returns = pass\n",
    "    \n",
    "    #print(positions)\n",
    "    print(portfolio)\n",
    "    return portfolio"
   ]
  },
  {
   "cell_type": "code",
   "execution_count": null,
   "id": "3cc97369",
   "metadata": {},
   "outputs": [],
   "source": [
    "def calculate_holding_cash(financial_data,signals):\n",
    "    # You are going to set your initial amount of money you want\n",
    "    # to invest --- here it is 10,000\n",
    "    startingcash = 10_000\n",
    "    signals['stockprice'] = financial_data.Close\n",
    "    # You are going to create a new dataframe positions\n",
    "    # Remember the index is still the same as signals\n",
    "    positions = pd.DataFrame(data = signals,index=signals.index)\n",
    "    #positions['cash'] = [10_000.000_000 for i in range(50)]\n",
    "    \n",
    "    portfolio = pd.DataFrame()\n",
    "    # You are going to buy 10 shares of the stock when signal is 1\n",
    "    # You are going to sell 10 shares of the stock when signal is -1\n",
    "    # You will assign these values to the column stock of the\n",
    "    # dataframe positions\n",
    "    \n",
    "    positions['stock'] = 10*(signals['stockprice'])*(signals['signal'])\n",
    "\n",
    "    # You are now going to calculate the notional (quantity x price)\n",
    "    # for your portfolio. You will multiply Close from\n",
    "    # the dataframe containing prices and the positions (10 shares)\n",
    "    # You will store it into the variable portfolio\n",
    "    # Add `holdings` to portfolio\n",
    "    portfolio['holdings'] = 10*(signals['stockprice'])\n",
    "    \n",
    "    # You will store positions.diff into pos_diff\n",
    "    positions['pos_diff'] = positions['stock'].diff()\n",
    "    # You will now add a column cash in your dataframe portfolio\n",
    "    # which will calculate the amount of cash you have\n",
    "    # initial_capital - (the notional you use for your different buy/sell)\n",
    "    portfolio['cash'] = [10_000.000_000 for i in range(50)] - positions['pos_diff']\n",
    "    \n",
    "    # You will now add a column total to your portfolio calculating the part of holding\n",
    "    # and the part of cash\n",
    "    \n",
    "    # Add `returns` to portfolio\n",
    "    \n",
    "    #print(positions)\n",
    "    print(portfolio)\n",
    "    return portfolio"
   ]
  },
  {
   "cell_type": "code",
   "execution_count": null,
   "id": "b623cf40",
   "metadata": {},
   "outputs": [],
   "source": []
  }
 ],
 "metadata": {
  "kernelspec": {
   "display_name": "Python 3",
   "language": "python",
   "name": "python3"
  },
  "language_info": {
   "codemirror_mode": {
    "name": "ipython",
    "version": 3
   },
   "file_extension": ".py",
   "mimetype": "text/x-python",
   "name": "python",
   "nbconvert_exporter": "python",
   "pygments_lexer": "ipython3",
   "version": "3.8.12"
  }
 },
 "nbformat": 4,
 "nbformat_minor": 5
}
