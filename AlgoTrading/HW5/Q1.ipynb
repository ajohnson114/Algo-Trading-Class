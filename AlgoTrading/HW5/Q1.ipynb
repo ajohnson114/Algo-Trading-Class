{
 "cells": [
  {
   "cell_type": "code",
   "execution_count": 34,
   "id": "5ae1c5e6",
   "metadata": {},
   "outputs": [],
   "source": [
    "import math\n",
    "import os\n",
    "import random\n",
    "import re\n",
    "import sys\n",
    "import datetime\n",
    "import pandas as pd\n",
    "import numpy as np\n",
    "\n",
    "def OBV_indicator_calculate_OBV(data):\n",
    "    ## Step 1:\n",
    "    '''\n",
    "    In this step we calculate OBV and its moving average\n",
    "    '''\n",
    "    '''\n",
    "    data has two columns 'Close' and 'Volume', indexed by datetime\n",
    "    \n",
    "    Create a dataframe called OBV_data with two columns 'OBV' and 'OBV ema':\n",
    "        Calculate On-Balance Volume (OBV) using data from the previous step\n",
    "        Calculate exponential weight moving average of OBV (OBV ema) with center of mass = 5\n",
    "    \n",
    "    \n",
    "    Hint: \n",
    "        - data you will use: data['Close'], data['Volume']\n",
    "        - OBV_data['OBV'][0] = 0\n",
    "    '''\n",
    "    OBV_data = pd.DataFrame(index=data.index)\n",
    "    ##################\n",
    "    # your code here #\n",
    "    OBV_data['OBV'] = 0\n",
    "    obv_ind = data['Close'].diff()\n",
    "    obv_ind = obv_ind.fillna(0)\n",
    "    obv_ind = np.where(obv_ind == 0, 0, obv_ind)\n",
    "    obv_ind = np.where(obv_ind > 0, 1,-1)\n",
    "    obv_ind = data['Volume'].multiply(obv_ind)\n",
    "    for i in range(len(OBV_data['OBV'])):\n",
    "        if i != 0: OBV_data['OBV'][i] = (OBV_data['OBV'][i-1]) + obv_ind[i]\n",
    "    #OBV_data['OBV'] = OBV_data['OBV'].shift() + obv_ind\n",
    "    OBV_data['OBV'][0] = 0\n",
    "    OBV_data['OBV ema'] = OBV_data['OBV'].ewm(com=5).mean()\n",
    "    return OBV_data"
   ]
  },
  {
   "cell_type": "code",
   "execution_count": 35,
   "id": "06cb4d92",
   "metadata": {},
   "outputs": [],
   "source": [
    "df = pd.read_csv(\"input000-7.txt\",delimiter=\"\\t\")"
   ]
  },
  {
   "cell_type": "code",
   "execution_count": 62,
   "id": "ba5806d1",
   "metadata": {},
   "outputs": [
    {
     "data": {
      "text/html": [
       "<div>\n",
       "<style scoped>\n",
       "    .dataframe tbody tr th:only-of-type {\n",
       "        vertical-align: middle;\n",
       "    }\n",
       "\n",
       "    .dataframe tbody tr th {\n",
       "        vertical-align: top;\n",
       "    }\n",
       "\n",
       "    .dataframe thead th {\n",
       "        text-align: right;\n",
       "    }\n",
       "</style>\n",
       "<table border=\"1\" class=\"dataframe\">\n",
       "  <thead>\n",
       "    <tr style=\"text-align: right;\">\n",
       "      <th></th>\n",
       "      <th>Date</th>\n",
       "      <th>Close</th>\n",
       "      <th>Volume</th>\n",
       "    </tr>\n",
       "  </thead>\n",
       "  <tbody>\n",
       "    <tr>\n",
       "      <th>0</th>\n",
       "      <td>2020-01-02</td>\n",
       "      <td>160.619995</td>\n",
       "      <td>22622100</td>\n",
       "    </tr>\n",
       "    <tr>\n",
       "      <th>1</th>\n",
       "      <td>2020-01-03</td>\n",
       "      <td>158.619995</td>\n",
       "      <td>21116200</td>\n",
       "    </tr>\n",
       "    <tr>\n",
       "      <th>2</th>\n",
       "      <td>2020-01-06</td>\n",
       "      <td>159.029999</td>\n",
       "      <td>20813700</td>\n",
       "    </tr>\n",
       "    <tr>\n",
       "      <th>3</th>\n",
       "      <td>2020-01-07</td>\n",
       "      <td>157.580002</td>\n",
       "      <td>21634100</td>\n",
       "    </tr>\n",
       "    <tr>\n",
       "      <th>4</th>\n",
       "      <td>2020-01-08</td>\n",
       "      <td>160.089996</td>\n",
       "      <td>27746500</td>\n",
       "    </tr>\n",
       "  </tbody>\n",
       "</table>\n",
       "</div>"
      ],
      "text/plain": [
       "         Date       Close    Volume\n",
       "0  2020-01-02  160.619995  22622100\n",
       "1  2020-01-03  158.619995  21116200\n",
       "2  2020-01-06  159.029999  20813700\n",
       "3  2020-01-07  157.580002  21634100\n",
       "4  2020-01-08  160.089996  27746500"
      ]
     },
     "execution_count": 62,
     "metadata": {},
     "output_type": "execute_result"
    }
   ],
   "source": [
    "df.head()"
   ]
  },
  {
   "cell_type": "code",
   "execution_count": 61,
   "id": "a69beede",
   "metadata": {},
   "outputs": [
    {
     "data": {
      "text/html": [
       "<div>\n",
       "<style scoped>\n",
       "    .dataframe tbody tr th:only-of-type {\n",
       "        vertical-align: middle;\n",
       "    }\n",
       "\n",
       "    .dataframe tbody tr th {\n",
       "        vertical-align: top;\n",
       "    }\n",
       "\n",
       "    .dataframe thead th {\n",
       "        text-align: right;\n",
       "    }\n",
       "</style>\n",
       "<table border=\"1\" class=\"dataframe\">\n",
       "  <thead>\n",
       "    <tr style=\"text-align: right;\">\n",
       "      <th></th>\n",
       "      <th>OBV</th>\n",
       "      <th>OBV ema</th>\n",
       "    </tr>\n",
       "  </thead>\n",
       "  <tbody>\n",
       "    <tr>\n",
       "      <th>0</th>\n",
       "      <td>0</td>\n",
       "      <td>0.000000e+00</td>\n",
       "    </tr>\n",
       "    <tr>\n",
       "      <th>1</th>\n",
       "      <td>-21116200</td>\n",
       "      <td>-1.151793e+07</td>\n",
       "    </tr>\n",
       "    <tr>\n",
       "      <th>2</th>\n",
       "      <td>-302500</td>\n",
       "      <td>-7.081055e+06</td>\n",
       "    </tr>\n",
       "    <tr>\n",
       "      <th>3</th>\n",
       "      <td>-21936600</td>\n",
       "      <td>-1.186317e+07</td>\n",
       "    </tr>\n",
       "    <tr>\n",
       "      <th>4</th>\n",
       "      <td>5809900</td>\n",
       "      <td>-6.938572e+06</td>\n",
       "    </tr>\n",
       "    <tr>\n",
       "      <th>...</th>\n",
       "      <td>...</td>\n",
       "      <td>...</td>\n",
       "    </tr>\n",
       "    <tr>\n",
       "      <th>248</th>\n",
       "      <td>619500500</td>\n",
       "      <td>6.000588e+08</td>\n",
       "    </tr>\n",
       "    <tr>\n",
       "      <th>249</th>\n",
       "      <td>637434000</td>\n",
       "      <td>6.062880e+08</td>\n",
       "    </tr>\n",
       "    <tr>\n",
       "      <th>250</th>\n",
       "      <td>620030800</td>\n",
       "      <td>6.085784e+08</td>\n",
       "    </tr>\n",
       "    <tr>\n",
       "      <th>251</th>\n",
       "      <td>599758500</td>\n",
       "      <td>6.071085e+08</td>\n",
       "    </tr>\n",
       "    <tr>\n",
       "      <th>252</th>\n",
       "      <td>620700600</td>\n",
       "      <td>6.093738e+08</td>\n",
       "    </tr>\n",
       "  </tbody>\n",
       "</table>\n",
       "<p>253 rows × 2 columns</p>\n",
       "</div>"
      ],
      "text/plain": [
       "           OBV       OBV ema\n",
       "0            0  0.000000e+00\n",
       "1    -21116200 -1.151793e+07\n",
       "2      -302500 -7.081055e+06\n",
       "3    -21936600 -1.186317e+07\n",
       "4      5809900 -6.938572e+06\n",
       "..         ...           ...\n",
       "248  619500500  6.000588e+08\n",
       "249  637434000  6.062880e+08\n",
       "250  620030800  6.085784e+08\n",
       "251  599758500  6.071085e+08\n",
       "252  620700600  6.093738e+08\n",
       "\n",
       "[253 rows x 2 columns]"
      ]
     },
     "execution_count": 61,
     "metadata": {},
     "output_type": "execute_result"
    }
   ],
   "source": [
    "OBV_indicator_calculate_OBV(df)"
   ]
  },
  {
   "cell_type": "code",
   "execution_count": 57,
   "id": "7fa84aae",
   "metadata": {},
   "outputs": [],
   "source": [
    "def OBV_indicator_strategyNreturn(OBV_data):\n",
    "    ## Step 2:\n",
    "    '''\n",
    "    In this step, we try a simple strategy using OBV indicator.\n",
    "    The idea is when OBV cross OBV ema from below, we buy. And when OBV cross OBV ema from above, we sell.\n",
    "    '''\n",
    "    '''\n",
    "    Suppose the input OBV_data is the output of the previous step\n",
    "    \n",
    "    Generate two pd.Series named Buy_idx and Sell_idx respectively.\n",
    "    Values in Buy_idx(Sell_idx) should be either True or False, where True indicate a Buy(Sell) signal.\n",
    "    \n",
    "    To be specific, \n",
    "    \n",
    "    Buy_idx[t] is True if and only if (OBV_data['OBV'][t-1] < OBV_data['OBV ema'][t-1] and OBV_data['OBV'][t] >= OBV_data['OBV ema'][t])\n",
    "    \n",
    "    Similar for Sell_idx\n",
    "    '''\n",
    "    '''\n",
    "    If you print a few lines of Buy_idx out, it should look like\n",
    "    Date\n",
    "2020-01-02    False\n",
    "2020-01-03    False\n",
    "2020-01-06     True\n",
    "2020-01-07    False\n",
    "2020-01-08     True\n",
    "    '''\n",
    "    ##################\n",
    "    # your code here #\n",
    "    Buy_idx = pd.DataFrame(index=OBV_data.index)\n",
    "    Sell_idx = pd.DataFrame(index=OBV_data.index)\n",
    "    Buy_idx['signal'] = 0\n",
    "    Sell_idx['signal'] = 0\n",
    "    for i in range(len(Buy_idx)):\n",
    "        if i!= 0:\n",
    "            Buy_idx['signal'][i] = OBV_data['OBV'][i-1] < OBV_data['OBV ema'][i-1]\n",
    "            Sell_idx['signal'][i] = OBV_data['OBV'][i-1] > OBV_data['OBV ema'][i-1]\n",
    "    Buy_idx['signal'][0] = False\n",
    "    Sell_idx['signal'][0] = False\n",
    "    #for i in range(len(Buy_idx)):\n",
    "    #    if i!= 0:\n",
    "    #        Buy_idx[i] = OBV_data['OBV'][i-1] < OBV_data['OBV ema'][i-1]\n",
    "    #        Sell_idx[i] = OBV_data['OBV'][i-1] > OBV_data['OBV ema'][i-1]\n",
    "    Buy_idx = Buy_idx.copy()\n",
    "    Sell_idx = Sell_idx.copy()\n",
    "    ##################\n",
    "    return Buy_idx, Sell_idx"
   ]
  },
  {
   "cell_type": "code",
   "execution_count": 58,
   "id": "4759a46d",
   "metadata": {},
   "outputs": [
    {
     "data": {
      "text/plain": [
       "(    signal\n",
       " 0    False\n",
       " 1    False\n",
       " 2     True\n",
       " 3    False\n",
       " 4     True\n",
       " ..     ...\n",
       " 248  False\n",
       " 249  False\n",
       " 250  False\n",
       " 251  False\n",
       " 252   True\n",
       " \n",
       " [253 rows x 1 columns],\n",
       "     signal\n",
       " 0    False\n",
       " 1    False\n",
       " 2    False\n",
       " 3     True\n",
       " 4    False\n",
       " ..     ...\n",
       " 248   True\n",
       " 249   True\n",
       " 250   True\n",
       " 251   True\n",
       " 252  False\n",
       " \n",
       " [253 rows x 1 columns])"
      ]
     },
     "execution_count": 58,
     "metadata": {},
     "output_type": "execute_result"
    }
   ],
   "source": [
    "OBV_indicator_strategyNreturn(OBV_data)"
   ]
  },
  {
   "cell_type": "code",
   "execution_count": 39,
   "id": "e62e4a2b",
   "metadata": {},
   "outputs": [
    {
     "data": {
      "text/plain": [
       "RangeIndex(start=0, stop=253, step=1)"
      ]
     },
     "execution_count": 39,
     "metadata": {},
     "output_type": "execute_result"
    }
   ],
   "source": [
    "OBV_data.index"
   ]
  },
  {
   "cell_type": "code",
   "execution_count": 40,
   "id": "ce810c85",
   "metadata": {},
   "outputs": [
    {
     "data": {
      "text/plain": [
       "253"
      ]
     },
     "execution_count": 40,
     "metadata": {},
     "output_type": "execute_result"
    }
   ],
   "source": [
    "len(OBV_data)"
   ]
  },
  {
   "cell_type": "code",
   "execution_count": null,
   "id": "ea7c9ea4",
   "metadata": {},
   "outputs": [],
   "source": []
  }
 ],
 "metadata": {
  "kernelspec": {
   "display_name": "Python 3",
   "language": "python",
   "name": "python3"
  },
  "language_info": {
   "codemirror_mode": {
    "name": "ipython",
    "version": 3
   },
   "file_extension": ".py",
   "mimetype": "text/x-python",
   "name": "python",
   "nbconvert_exporter": "python",
   "pygments_lexer": "ipython3",
   "version": "3.8.12"
  }
 },
 "nbformat": 4,
 "nbformat_minor": 5
}
