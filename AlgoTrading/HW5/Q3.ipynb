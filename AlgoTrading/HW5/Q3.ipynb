{
 "cells": [
  {
   "cell_type": "code",
   "execution_count": 47,
   "id": "8f6acfe6",
   "metadata": {},
   "outputs": [],
   "source": [
    "df = pd.read_csv(\"input002-2.txt\")"
   ]
  },
  {
   "cell_type": "code",
   "execution_count": 52,
   "id": "24898d65",
   "metadata": {},
   "outputs": [],
   "source": [
    "import math\n",
    "import os\n",
    "import random\n",
    "import re\n",
    "import sys\n",
    "import pandas as pd\n",
    "import numpy as np\n",
    "\n",
    "def compute_diff(data):\n",
    "    ## add a new column named diff as the daily price change\n",
    "    data['diff'] = data[\"Adj_Close\"].diff()\n",
    "    ## print the first 20 rows of data\n",
    "    print(data.head(20))\n",
    "\n",
    "#2    \n",
    "def compute_gain_loss(data):\n",
    "    pass\n",
    "    data['diff'] = data[\"Adj_Close\"].diff()\n",
    "    ## add a new column named gain as the positive part of daily price change\n",
    "    data['gain'] = [data['diff'][i] if data['diff'][i] > 0 else 0 for i in range(len(data[\"diff\"]))]\n",
    "    ## add a new column named loss as the negative part of daily price change\n",
    "    data['loss'] = [-1*data['diff'][i] if data['diff'][i] < 0 else 0 for i in range(len(data[\"diff\"]))]\n",
    "    data['gain'][0], data['loss'][0] = data['diff'][0], data['diff'][0]\n",
    "    ## print the first 20 rows of data\n",
    "    print(data.head(20))\n",
    "\n",
    "#3  \n",
    "def compute_avg_gain_loss(data):\n",
    "    def ma(x,n,y0):\n",
    "        a = (n-1)/n\n",
    "        ak = a**np.arange(len(x)-1,-1,-1)\n",
    "        return np.r_[np.full(n,np.nan), y0, np.cumsum(ak*x)/ak/n + y0*np.arange(1,len(x)+1)]\n",
    "    \n",
    "    data['diff'] = data[\"Adj_Close\"].diff()\n",
    "    data['gain'] = [data['diff'][i] if data['diff'][i] > 0 else 0 for i in range(len(data[\"diff\"]))]\n",
    "    data['loss'] = [-1*data['diff'][i] if data['diff'][i] < 0 else 0 for i in range(len(data[\"diff\"]))]\n",
    "    data['gain'][0], data['loss'][0] = data['diff'][0], data['diff'][0]\n",
    "    days = 14\n",
    "    ## add a new column named avg_gain as the average gain described before\n",
    "    #data['avg_gain'] = data['gain'].rolling(days).mean()\n",
    "    ## add a new column named avg_loss as the average loss described before\n",
    "    #data['avg_loss'] = data['loss'].rolling(days).mean()\n",
    "    \n",
    "    ## add a new column named avg_gain as the average gain described before\n",
    "    data['avg_gain'] = ma(data.gain[days+1:].to_numpy(), days, np.nansum(data.gain.to_numpy()[:days+1])/days)\n",
    "    \n",
    "    ## add a new column named avg_loss as the average loss described before\n",
    "    data['avg_loss'] = ma(data.loss[days+1:].to_numpy(), days, np.nansum(data.loss.to_numpy()[:days+1])/days)\n",
    "    \n",
    "    ## print the first 20 rows of data\n",
    "    print(data.head(20))"
   ]
  },
  {
   "cell_type": "code",
   "execution_count": 53,
   "id": "9169c47a",
   "metadata": {},
   "outputs": [
    {
     "name": "stdout",
     "output_type": "stream",
     "text": [
      "          Date  Adj_Close  diff  gain  loss  avg_gain  avg_loss\n",
      "0   2021-01-04     133.72   NaN   NaN   NaN       NaN       NaN\n",
      "1   2021-01-05     134.57  0.85  0.85  0.00       NaN       NaN\n",
      "2   2021-01-06     135.99  1.42  1.42  0.00       NaN       NaN\n",
      "3   2021-01-07     134.72 -1.27  0.00  1.27       NaN       NaN\n",
      "4   2021-01-08     134.66 -0.06  0.00  0.06       NaN       NaN\n",
      "5   2021-01-11     133.75 -0.91  0.00  0.91       NaN       NaN\n",
      "6   2021-01-12     132.97 -0.78  0.00  0.78       NaN       NaN\n",
      "7   2021-01-13     133.17  0.20  0.20  0.00       NaN       NaN\n",
      "8   2021-01-14     131.76 -1.41  0.00  1.41       NaN       NaN\n",
      "9   2021-01-15     130.77 -0.99  0.00  0.99       NaN       NaN\n",
      "10  2021-01-19     129.62 -1.15  0.00  1.15       NaN       NaN\n",
      "11  2021-01-20     128.00 -1.62  0.00  1.62       NaN       NaN\n",
      "12  2021-01-21     127.88 -0.12  0.00  0.12       NaN       NaN\n",
      "13  2021-01-22     126.89 -0.99  0.00  0.99       NaN       NaN\n",
      "14  2021-01-25     129.08  2.19  2.19  0.00  0.332857  0.664286\n",
      "15  2021-01-26     129.91  0.83  0.83  0.00  0.392143  0.664286\n",
      "16  2021-01-27     125.31 -4.60  0.00  4.60  0.720765  1.657143\n",
      "17  2021-01-28     127.24  1.93  1.93  0.00  1.187547  2.297959\n",
      "18  2021-01-29     125.14 -2.10  0.00  2.10  1.506906  3.090452\n",
      "19  2021-02-01     125.88  0.74  0.74  0.00  1.880086  3.723787\n"
     ]
    },
    {
     "name": "stderr",
     "output_type": "stream",
     "text": [
      "<ipython-input-52-146619baf933>:37: SettingWithCopyWarning: \n",
      "A value is trying to be set on a copy of a slice from a DataFrame\n",
      "\n",
      "See the caveats in the documentation: https://pandas.pydata.org/pandas-docs/stable/user_guide/indexing.html#returning-a-view-versus-a-copy\n",
      "  data['gain'][0], data['loss'][0] = data['diff'][0], data['diff'][0]\n"
     ]
    }
   ],
   "source": [
    "compute_avg_gain_loss(df)"
   ]
  },
  {
   "cell_type": "markdown",
   "id": "1683d623",
   "metadata": {},
   "source": [
    "            Adj_Close  diff  gain  loss  avg_gain  avg_loss\n",
    "Date                                                       \n",
    "2021-01-04     133.72   NaN   NaN   NaN       NaN       NaN\n",
    "2021-01-05     134.57  0.85  0.85  0.00       NaN       NaN\n",
    "2021-01-06     135.99  1.42  1.42  0.00       NaN       NaN\n",
    "2021-01-07     134.72 -1.27  0.00  1.27       NaN       NaN\n",
    "2021-01-08     134.66 -0.06  0.00  0.06       NaN       NaN\n",
    "2021-01-11     133.75 -0.91  0.00  0.91       NaN       NaN\n",
    "2021-01-12     132.97 -0.78  0.00  0.78       NaN       NaN\n",
    "2021-01-13     133.17  0.20  0.20  0.00       NaN       NaN\n",
    "2021-01-14     131.76 -1.41  0.00  1.41       NaN       NaN\n",
    "2021-01-15     130.77 -0.99  0.00  0.99       NaN       NaN\n",
    "2021-01-19     129.62 -1.15  0.00  1.15       NaN       NaN\n",
    "2021-01-20     128.00 -1.62  0.00  1.62       NaN       NaN\n",
    "2021-01-21     127.88 -0.12  0.00  0.12       NaN       NaN\n",
    "2021-01-22     126.89 -0.99  0.00  0.99       NaN       NaN\n",
    "2021-01-25     129.08  2.19  2.19  0.00  0.332857  0.664286\n",
    "2021-01-26     129.91  0.83  0.83  0.00  0.368367  0.616837\n",
    "2021-01-27     125.31 -4.60  0.00  4.60  0.342055  0.901348\n",
    "2021-01-28     127.24  1.93  1.93  0.00  0.455480  0.836966\n",
    "2021-01-29     125.14 -2.10  0.00  2.10  0.422946  0.927183\n",
    "2021-02-01     125.88  0.74  0.74  0.00  0.445592  0.860956"
   ]
  },
  {
   "cell_type": "code",
   "execution_count": 33,
   "id": "8ab9242c",
   "metadata": {},
   "outputs": [
    {
     "data": {
      "text/html": [
       "<div>\n",
       "<style scoped>\n",
       "    .dataframe tbody tr th:only-of-type {\n",
       "        vertical-align: middle;\n",
       "    }\n",
       "\n",
       "    .dataframe tbody tr th {\n",
       "        vertical-align: top;\n",
       "    }\n",
       "\n",
       "    .dataframe thead th {\n",
       "        text-align: right;\n",
       "    }\n",
       "</style>\n",
       "<table border=\"1\" class=\"dataframe\">\n",
       "  <thead>\n",
       "    <tr style=\"text-align: right;\">\n",
       "      <th></th>\n",
       "      <th>compute_avg_gain_loss</th>\n",
       "    </tr>\n",
       "  </thead>\n",
       "  <tbody>\n",
       "    <tr>\n",
       "      <th>Date</th>\n",
       "      <td>Adj_Close</td>\n",
       "    </tr>\n",
       "    <tr>\n",
       "      <th>2021-01-04</th>\n",
       "      <td>133.72</td>\n",
       "    </tr>\n",
       "    <tr>\n",
       "      <th>2021-01-05</th>\n",
       "      <td>134.57</td>\n",
       "    </tr>\n",
       "    <tr>\n",
       "      <th>2021-01-06</th>\n",
       "      <td>135.99</td>\n",
       "    </tr>\n",
       "    <tr>\n",
       "      <th>2021-01-07</th>\n",
       "      <td>134.72</td>\n",
       "    </tr>\n",
       "    <tr>\n",
       "      <th>...</th>\n",
       "      <td>...</td>\n",
       "    </tr>\n",
       "    <tr>\n",
       "      <th>2021-12-27</th>\n",
       "      <td>161.1</td>\n",
       "    </tr>\n",
       "    <tr>\n",
       "      <th>2021-12-28</th>\n",
       "      <td>161.97</td>\n",
       "    </tr>\n",
       "    <tr>\n",
       "      <th>2021-12-29</th>\n",
       "      <td>163.31</td>\n",
       "    </tr>\n",
       "    <tr>\n",
       "      <th>2021-12-30</th>\n",
       "      <td>161.9</td>\n",
       "    </tr>\n",
       "    <tr>\n",
       "      <th>2021-12-31</th>\n",
       "      <td>162.7</td>\n",
       "    </tr>\n",
       "  </tbody>\n",
       "</table>\n",
       "<p>253 rows × 1 columns</p>\n",
       "</div>"
      ],
      "text/plain": [
       "           compute_avg_gain_loss\n",
       "Date                   Adj_Close\n",
       "2021-01-04                133.72\n",
       "2021-01-05                134.57\n",
       "2021-01-06                135.99\n",
       "2021-01-07                134.72\n",
       "...                          ...\n",
       "2021-12-27                 161.1\n",
       "2021-12-28                161.97\n",
       "2021-12-29                163.31\n",
       "2021-12-30                 161.9\n",
       "2021-12-31                 162.7\n",
       "\n",
       "[253 rows x 1 columns]"
      ]
     },
     "execution_count": 33,
     "metadata": {},
     "output_type": "execute_result"
    }
   ],
   "source": [
    "df[['compute_avg_gain_loss']]"
   ]
  },
  {
   "cell_type": "code",
   "execution_count": 34,
   "id": "5ffdea04",
   "metadata": {},
   "outputs": [],
   "source": [
    "df1 = pd.DataFrame(df[['compute_avg_gain_loss']],index=df.index)"
   ]
  },
  {
   "cell_type": "code",
   "execution_count": 42,
   "id": "e084ce97",
   "metadata": {},
   "outputs": [
    {
     "name": "stdout",
     "output_type": "stream",
     "text": [
      "Adj_Close\n",
      "133.72\n",
      "134.57\n",
      "135.99\n",
      "134.72\n",
      "134.66\n",
      "133.75\n",
      "132.97\n",
      "133.17\n",
      "131.76\n",
      "130.77\n"
     ]
    }
   ],
   "source": [
    "x=0\n",
    "for i in df['compute_avg_gain_loss']:\n",
    "    print(i)\n",
    "    x+=1\n",
    "    if x >10:\n",
    "        break"
   ]
  },
  {
   "cell_type": "code",
   "execution_count": 44,
   "id": "2fa467af",
   "metadata": {},
   "outputs": [
    {
     "data": {
      "text/plain": [
       "'133.72'"
      ]
     },
     "execution_count": 44,
     "metadata": {},
     "output_type": "execute_result"
    }
   ],
   "source": [
    "df['compute_avg_gain_loss'][1]"
   ]
  },
  {
   "cell_type": "code",
   "execution_count": 45,
   "id": "2b7d8502",
   "metadata": {},
   "outputs": [
    {
     "data": {
      "text/plain": [
       "Index(['Date', '2021-01-04', '2021-01-05', '2021-01-06', '2021-01-07',\n",
       "       '2021-01-08', '2021-01-11', '2021-01-12', '2021-01-13', '2021-01-14',\n",
       "       ...\n",
       "       '2021-12-17', '2021-12-20', '2021-12-21', '2021-12-22', '2021-12-23',\n",
       "       '2021-12-27', '2021-12-28', '2021-12-29', '2021-12-30', '2021-12-31'],\n",
       "      dtype='object', length=253)"
      ]
     },
     "execution_count": 45,
     "metadata": {},
     "output_type": "execute_result"
    }
   ],
   "source": [
    "df['compute_avg_gain_loss'].index"
   ]
  },
  {
   "cell_type": "code",
   "execution_count": null,
   "id": "1ef5c9d0",
   "metadata": {},
   "outputs": [],
   "source": []
  }
 ],
 "metadata": {
  "kernelspec": {
   "display_name": "Python 3",
   "language": "python",
   "name": "python3"
  },
  "language_info": {
   "codemirror_mode": {
    "name": "ipython",
    "version": 3
   },
   "file_extension": ".py",
   "mimetype": "text/x-python",
   "name": "python",
   "nbconvert_exporter": "python",
   "pygments_lexer": "ipython3",
   "version": "3.8.12"
  }
 },
 "nbformat": 4,
 "nbformat_minor": 5
}
