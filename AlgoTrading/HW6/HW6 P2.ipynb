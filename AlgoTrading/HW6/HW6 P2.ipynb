{
 "cells": [
  {
   "cell_type": "markdown",
   "id": "d84553f5",
   "metadata": {},
   "source": [
    "## Finalized Version Below"
   ]
  },
  {
   "cell_type": "code",
   "execution_count": null,
   "id": "73e7ce7f",
   "metadata": {},
   "outputs": [],
   "source": [
    "import os\n",
    "import re\n",
    "import sys\n",
    "\n",
    "# Please complete the function \"kfold_split\" below\n",
    "# The function will get a list of indexes and the number of folds\n",
    "# It returns two lists containing train sets and test sets respectively\n",
    "\n",
    "def kfold_split(list_of_indices, K):\n",
    "    # -- your code here --\n",
    "    if K <= 0 or K > len(list_of_indices):\n",
    "        raise RuntimeError \n",
    "    \n",
    "    def get_train_sets(folds, list_of_indices):\n",
    "        \"\"\"Folds are a list of lists where each i are a test set and we want to construct the training sets\"\"\"\n",
    "        ans = []\n",
    "        for i in folds:\n",
    "            #test = []\n",
    "            bigger = []\n",
    "            smaller = []\n",
    "            for j in list_of_indices:\n",
    "                if j not in i and j < min(i):\n",
    "                    smaller.append(j)\n",
    "                elif j not in i and j > max(i):\n",
    "                    bigger.append(j)\n",
    "            test = bigger + smaller\n",
    "            ans.append(test)\n",
    "        return ans\n",
    "    \n",
    "    idx = 0\n",
    "    folds = []\n",
    "    for i in range(len(list_of_indices)%K):\n",
    "        fold = []\n",
    "        for i in range((len(list_of_indices)//K)+1):\n",
    "            fold.append(list_of_indices[idx])\n",
    "            idx+=1\n",
    "        folds.append(fold)\n",
    "    folds2 = []    \n",
    "    while idx != len(list_of_indices):\n",
    "        arr = []\n",
    "        for i in range(len(list_of_indices)//K):\n",
    "            arr.append(list_of_indices[idx])\n",
    "            idx+=1\n",
    "        folds2.append(arr)\n",
    "    \n",
    "    for i in folds2:\n",
    "        folds.append(i)\n",
    "    \n",
    "    train = get_train_sets(folds, list_of_indices)\n",
    "    rearrtest = folds.pop()\n",
    "    rearrtrain = train.pop()\n",
    "    final_test = [rearrtest]+[i for i in folds]\n",
    "    final_train = [rearrtrain] + [i for i in train]\n",
    "    \n",
    "    return final_train, final_test\n",
    "\n",
    "  \n",
    "  \n",
    "  \n",
    "  \n",
    "  \n",
    "\n",
    "def test1():\n",
    "  list_of_indices = []\n",
    "  for i in range(10):\n",
    "    list_of_indices.append(i)\n",
    "  train_sets, test_sets = kfold_split(list_of_indices, 5)\n",
    "  for i in range(len(train_sets)):\n",
    "        for j in range(len(train_sets[i])):\n",
    "            train_sets[i][j] = str(train_sets[i][j])\n",
    "  for i in range(len(test_sets)):\n",
    "        for j in range(len(test_sets[i])):\n",
    "            test_sets[i][j] = str(test_sets[i][j])\n",
    "  s = \", \"\n",
    "  for i in range(len(train_sets)):\n",
    "    fptr.write(\"train set \" + str(i + 1) + \": [\" + str(s.join(train_sets[i])) + \"]\" + \"\\n\")\n",
    "    fptr.write(\"size of train set \" + str(i + 1) + \": \" + str(len(train_sets[i])) + \"\\n\")\n",
    "    fptr.write(\"test set \" + str(i + 1) + \": [\" + str(s.join(test_sets[i])) + \"]\" + \"\\n\")\n",
    "    fptr.write(\"size of test set \" + str(i + 1) + \": \" + str(len(test_sets[i])) + \"\\n\")\n",
    "def test2():\n",
    "  list_of_indices = []\n",
    "  for i in range(23):\n",
    "    list_of_indices.append(i)\n",
    "  train_sets, test_sets = kfold_split(list_of_indices, 4)\n",
    "  for i in range(len(train_sets)):\n",
    "        for j in range(len(train_sets[i])):\n",
    "            train_sets[i][j] = str(train_sets[i][j])\n",
    "  for i in range(len(test_sets)):\n",
    "        for j in range(len(test_sets[i])):\n",
    "            test_sets[i][j] = str(test_sets[i][j])\n",
    "  s = \", \"\n",
    "  for i in range(len(train_sets)):\n",
    "    fptr.write(\"train set \" + str(i + 1) + \": [\" + str(s.join(train_sets[i])) + \"]\" + \"\\n\")\n",
    "    fptr.write(\"size of train set \" + str(i + 1) + \": \" + str(len(train_sets[i])) + \"\\n\")\n",
    "    fptr.write(\"test set \" + str(i + 1) + \": [\" + str(s.join(test_sets[i])) + \"]\" + \"\\n\")\n",
    "    fptr.write(\"size of test set \" + str(i + 1) + \": \" + str(len(test_sets[i])) + \"\\n\")\n",
    "def test3():\n",
    "  list_of_indices = []\n",
    "  for i in range(284):\n",
    "    list_of_indices.append(i)\n",
    "  train_sets, test_sets = kfold_split(list_of_indices, 10)\n",
    "  for i in range(len(train_sets)):\n",
    "        for j in range(len(train_sets[i])):\n",
    "            train_sets[i][j] = str(train_sets[i][j])\n",
    "  for i in range(len(test_sets)):\n",
    "        for j in range(len(test_sets[i])):\n",
    "            test_sets[i][j] = str(test_sets[i][j])\n",
    "  s = \", \"\n",
    "  for i in range(len(train_sets)):\n",
    "    fptr.write(\"train set \" + str(i + 1) + \": [\" + str(s.join(train_sets[i])) + \"]\" + \"\\n\")\n",
    "    fptr.write(\"size of train set \" + str(i + 1) + \": \" + str(len(train_sets[i])) + \"\\n\")\n",
    "    fptr.write(\"test set \" + str(i + 1) + \": [\" + str(s.join(test_sets[i])) + \"]\" + \"\\n\")\n",
    "    fptr.write(\"size of test set \" + str(i + 1) + \": \" + str(len(test_sets[i])) + \"\\n\")\n",
    "def test4():\n",
    "  list_of_indices = []\n",
    "  for i in range(1000):\n",
    "    list_of_indices.append(i)\n",
    "  train_sets, test_sets = kfold_split(list_of_indices, 11)\n",
    "  for i in range(len(train_sets)):\n",
    "      for j in range(len(train_sets[i])):\n",
    "          train_sets[i][j] = str(train_sets[i][j])\n",
    "  for i in range(len(test_sets)):\n",
    "      for j in range(len(test_sets[i])):\n",
    "          test_sets[i][j] = str(test_sets[i][j])\n",
    "  s = \", \"\n",
    "  for i in range(len(train_sets)):\n",
    "    fptr.write(\"train set \" + str(i + 1) + \": [\" + str(s.join(train_sets[i])) + \"]\" + \"\\n\")\n",
    "    fptr.write(\"size of train set \" + str(i + 1) + \": \" + str(len(train_sets[i])) + \"\\n\")\n",
    "    fptr.write(\"test set \" + str(i + 1) + \": [\" + str(s.join(test_sets[i])) + \"]\" + \"\\n\")\n",
    "    fptr.write(\"size of test set \" + str(i + 1) + \": \" + str(len(test_sets[i])) + \"\\n\")\n",
    "def test5():\n",
    "  list_of_indices = []\n",
    "  for i in range(100):\n",
    "    list_of_indices.append(i)\n",
    "  try:\n",
    "    train_sets, test_sets = kfold_split(list_of_indices, 101)\n",
    "  except: RuntimeError\n",
    "  fptr.write(\"pass\")\n",
    "    \n",
    "if __name__ == '__main__':\n",
    "    fptr = open(os.environ['OUTPUT_PATH'], 'w')\n",
    "    num = int(input().strip())\n",
    "    if num == 1:\n",
    "        test1()\n",
    "    elif num == 2:\n",
    "        test2()\n",
    "    elif num == 3:\n",
    "        test3()\n",
    "    elif num == 4:\n",
    "        test4()\n",
    "    elif num == 5:\n",
    "        test5()\n",
    "    else:\n",
    "        raise RuntimeError('invalid input')"
   ]
  },
  {
   "cell_type": "code",
   "execution_count": 36,
   "id": "d0e572c0",
   "metadata": {},
   "outputs": [
    {
     "data": {
      "text/plain": [
       "[0,\n",
       " 1,\n",
       " 2,\n",
       " 3,\n",
       " 4,\n",
       " 5,\n",
       " 6,\n",
       " 7,\n",
       " 8,\n",
       " 9,\n",
       " 10,\n",
       " 11,\n",
       " 12,\n",
       " 13,\n",
       " 14,\n",
       " 15,\n",
       " 16,\n",
       " 17,\n",
       " 18,\n",
       " 19,\n",
       " 20,\n",
       " 21,\n",
       " 22]"
      ]
     },
     "execution_count": 36,
     "metadata": {},
     "output_type": "execute_result"
    }
   ],
   "source": [
    "array = list(range(23))\n",
    "array"
   ]
  },
  {
   "cell_type": "code",
   "execution_count": 42,
   "id": "d8de348e",
   "metadata": {},
   "outputs": [],
   "source": [
    "n = 4"
   ]
  },
  {
   "cell_type": "code",
   "execution_count": 43,
   "id": "069ef18d",
   "metadata": {},
   "outputs": [
    {
     "data": {
      "text/plain": [
       "3"
      ]
     },
     "execution_count": 43,
     "metadata": {},
     "output_type": "execute_result"
    }
   ],
   "source": [
    "len(array) %n "
   ]
  },
  {
   "cell_type": "code",
   "execution_count": 44,
   "id": "7e6e421e",
   "metadata": {},
   "outputs": [
    {
     "data": {
      "text/plain": [
       "6"
      ]
     },
     "execution_count": 44,
     "metadata": {},
     "output_type": "execute_result"
    }
   ],
   "source": [
    "(len(array)//n)+1"
   ]
  },
  {
   "cell_type": "code",
   "execution_count": 45,
   "id": "90cfaa49",
   "metadata": {},
   "outputs": [
    {
     "data": {
      "text/plain": [
       "5"
      ]
     },
     "execution_count": 45,
     "metadata": {},
     "output_type": "execute_result"
    }
   ],
   "source": [
    "(len(array)//n)"
   ]
  },
  {
   "cell_type": "code",
   "execution_count": 150,
   "id": "19a553d1",
   "metadata": {},
   "outputs": [],
   "source": [
    "def kfold_split(list_of_indices, K):\n",
    "    # -- your code here --\n",
    "    if K <= 0 or K > len(list_of_indices):\n",
    "        raise RuntimeError \n",
    "    \n",
    "    def get_train_sets(folds, list_of_indices):\n",
    "        \"\"\"Folds are a list of lists where each i are a test set and we want to construct the training sets\"\"\"\n",
    "        ans = []\n",
    "        for i in folds:\n",
    "            #test = []\n",
    "            bigger = []\n",
    "            smaller = []\n",
    "            for j in list_of_indices:\n",
    "                if j not in i and j < min(i):\n",
    "                    smaller.append(j)\n",
    "                elif j not in i and j > max(i):\n",
    "                    bigger.append(j)\n",
    "            test = bigger + smaller\n",
    "            ans.append(test)\n",
    "        return ans\n",
    "    \n",
    "    idx = 0\n",
    "    folds = []\n",
    "    for i in range(len(list_of_indices)%K):\n",
    "        fold = []\n",
    "        for i in range((len(list_of_indices)//K)+1):\n",
    "            fold.append(list_of_indices[idx])\n",
    "            idx+=1\n",
    "        folds.append(fold)\n",
    "    folds2 = []    \n",
    "    while idx != len(list_of_indices):\n",
    "        arr = []\n",
    "        for i in range(len(list_of_indices)//K):\n",
    "            arr.append(list_of_indices[idx])\n",
    "            idx+=1\n",
    "        folds2.append(arr)\n",
    "    \n",
    "    for i in folds2:\n",
    "        folds.append(i)\n",
    "    #print('folds: ', folds)\n",
    "    #print()\n",
    "    \n",
    "    train = get_train_sets(folds, list_of_indices)\n",
    "    #print('train: ', train)\n",
    "    #print()\n",
    "    rearrtest = folds.pop()\n",
    "    rearrtrain = train.pop()\n",
    "    \n",
    "    #print('back1: ',rearrtest, type(rearrtest))\n",
    "    #print()\n",
    "    #print('back2: ',rearrtrain, type(rearrtrain))\n",
    "    #print()\n",
    "    \n",
    "    \n",
    "    final_test = [rearrtest]+[i for i in folds]\n",
    "    final_train = [rearrtrain] + [i for i in train]\n",
    "    \n",
    "    #print('new folds: ', final_test)\n",
    "    #print('new train: ', final_train)\n",
    "    \n",
    "    return final_test, final_train\n",
    "    \n",
    "    \n",
    "        \n",
    "    "
   ]
  },
  {
   "cell_type": "code",
   "execution_count": 151,
   "id": "72ed29d9",
   "metadata": {},
   "outputs": [],
   "source": [
    "folds, testset = kfold_split(list(range(23)), 4)"
   ]
  },
  {
   "cell_type": "code",
   "execution_count": 152,
   "id": "23ee1b20",
   "metadata": {},
   "outputs": [
    {
     "ename": "NameError",
     "evalue": "name 'fptr' is not defined",
     "output_type": "error",
     "traceback": [
      "\u001b[0;31m---------------------------------------------------------------------------\u001b[0m",
      "\u001b[0;31mNameError\u001b[0m                                 Traceback (most recent call last)",
      "\u001b[0;32m<ipython-input-152-f8e64abe9a9a>\u001b[0m in \u001b[0;36m<module>\u001b[0;34m\u001b[0m\n\u001b[1;32m     16\u001b[0m         \u001b[0mfptr\u001b[0m\u001b[0;34m.\u001b[0m\u001b[0mwrite\u001b[0m\u001b[0;34m(\u001b[0m\u001b[0;34m\"test set \"\u001b[0m \u001b[0;34m+\u001b[0m \u001b[0mstr\u001b[0m\u001b[0;34m(\u001b[0m\u001b[0mi\u001b[0m \u001b[0;34m+\u001b[0m \u001b[0;36m1\u001b[0m\u001b[0;34m)\u001b[0m \u001b[0;34m+\u001b[0m \u001b[0;34m\": [\"\u001b[0m \u001b[0;34m+\u001b[0m \u001b[0mstr\u001b[0m\u001b[0;34m(\u001b[0m\u001b[0ms\u001b[0m\u001b[0;34m.\u001b[0m\u001b[0mjoin\u001b[0m\u001b[0;34m(\u001b[0m\u001b[0mtest_sets\u001b[0m\u001b[0;34m[\u001b[0m\u001b[0mi\u001b[0m\u001b[0;34m]\u001b[0m\u001b[0;34m)\u001b[0m\u001b[0;34m)\u001b[0m \u001b[0;34m+\u001b[0m \u001b[0;34m\"]\"\u001b[0m \u001b[0;34m+\u001b[0m \u001b[0;34m\"\\n\"\u001b[0m\u001b[0;34m)\u001b[0m\u001b[0;34m\u001b[0m\u001b[0;34m\u001b[0m\u001b[0m\n\u001b[1;32m     17\u001b[0m         \u001b[0mfptr\u001b[0m\u001b[0;34m.\u001b[0m\u001b[0mwrite\u001b[0m\u001b[0;34m(\u001b[0m\u001b[0;34m\"size of test set \"\u001b[0m \u001b[0;34m+\u001b[0m \u001b[0mstr\u001b[0m\u001b[0;34m(\u001b[0m\u001b[0mi\u001b[0m \u001b[0;34m+\u001b[0m \u001b[0;36m1\u001b[0m\u001b[0;34m)\u001b[0m \u001b[0;34m+\u001b[0m \u001b[0;34m\": \"\u001b[0m \u001b[0;34m+\u001b[0m \u001b[0mstr\u001b[0m\u001b[0;34m(\u001b[0m\u001b[0mlen\u001b[0m\u001b[0;34m(\u001b[0m\u001b[0mtest_sets\u001b[0m\u001b[0;34m[\u001b[0m\u001b[0mi\u001b[0m\u001b[0;34m]\u001b[0m\u001b[0;34m)\u001b[0m\u001b[0;34m)\u001b[0m \u001b[0;34m+\u001b[0m \u001b[0;34m\"\\n\"\u001b[0m\u001b[0;34m)\u001b[0m\u001b[0;34m\u001b[0m\u001b[0;34m\u001b[0m\u001b[0m\n\u001b[0;32m---> 18\u001b[0;31m \u001b[0mtest1\u001b[0m\u001b[0;34m(\u001b[0m\u001b[0;34m)\u001b[0m\u001b[0;34m\u001b[0m\u001b[0;34m\u001b[0m\u001b[0m\n\u001b[0m",
      "\u001b[0;32m<ipython-input-152-f8e64abe9a9a>\u001b[0m in \u001b[0;36mtest1\u001b[0;34m()\u001b[0m\n\u001b[1;32m     12\u001b[0m     \u001b[0ms\u001b[0m \u001b[0;34m=\u001b[0m \u001b[0;34m\", \"\u001b[0m\u001b[0;34m\u001b[0m\u001b[0;34m\u001b[0m\u001b[0m\n\u001b[1;32m     13\u001b[0m     \u001b[0;32mfor\u001b[0m \u001b[0mi\u001b[0m \u001b[0;32min\u001b[0m \u001b[0mrange\u001b[0m\u001b[0;34m(\u001b[0m\u001b[0mlen\u001b[0m\u001b[0;34m(\u001b[0m\u001b[0mtrain_sets\u001b[0m\u001b[0;34m)\u001b[0m\u001b[0;34m)\u001b[0m\u001b[0;34m:\u001b[0m\u001b[0;34m\u001b[0m\u001b[0;34m\u001b[0m\u001b[0m\n\u001b[0;32m---> 14\u001b[0;31m         \u001b[0mfptr\u001b[0m\u001b[0;34m.\u001b[0m\u001b[0mwrite\u001b[0m\u001b[0;34m(\u001b[0m\u001b[0;34m\"train set \"\u001b[0m \u001b[0;34m+\u001b[0m \u001b[0mstr\u001b[0m\u001b[0;34m(\u001b[0m\u001b[0mi\u001b[0m \u001b[0;34m+\u001b[0m \u001b[0;36m1\u001b[0m\u001b[0;34m)\u001b[0m \u001b[0;34m+\u001b[0m \u001b[0;34m\": [\"\u001b[0m \u001b[0;34m+\u001b[0m \u001b[0mstr\u001b[0m\u001b[0;34m(\u001b[0m\u001b[0ms\u001b[0m\u001b[0;34m.\u001b[0m\u001b[0mjoin\u001b[0m\u001b[0;34m(\u001b[0m\u001b[0mtrain_sets\u001b[0m\u001b[0;34m[\u001b[0m\u001b[0mi\u001b[0m\u001b[0;34m]\u001b[0m\u001b[0;34m)\u001b[0m\u001b[0;34m)\u001b[0m \u001b[0;34m+\u001b[0m \u001b[0;34m\"]\"\u001b[0m \u001b[0;34m+\u001b[0m \u001b[0;34m\"\\n\"\u001b[0m\u001b[0;34m)\u001b[0m\u001b[0;34m\u001b[0m\u001b[0;34m\u001b[0m\u001b[0m\n\u001b[0m\u001b[1;32m     15\u001b[0m         \u001b[0mfptr\u001b[0m\u001b[0;34m.\u001b[0m\u001b[0mwrite\u001b[0m\u001b[0;34m(\u001b[0m\u001b[0;34m\"size of train set \"\u001b[0m \u001b[0;34m+\u001b[0m \u001b[0mstr\u001b[0m\u001b[0;34m(\u001b[0m\u001b[0mi\u001b[0m \u001b[0;34m+\u001b[0m \u001b[0;36m1\u001b[0m\u001b[0;34m)\u001b[0m \u001b[0;34m+\u001b[0m \u001b[0;34m\": \"\u001b[0m \u001b[0;34m+\u001b[0m \u001b[0mstr\u001b[0m\u001b[0;34m(\u001b[0m\u001b[0mlen\u001b[0m\u001b[0;34m(\u001b[0m\u001b[0mtrain_sets\u001b[0m\u001b[0;34m[\u001b[0m\u001b[0mi\u001b[0m\u001b[0;34m]\u001b[0m\u001b[0;34m)\u001b[0m\u001b[0;34m)\u001b[0m \u001b[0;34m+\u001b[0m \u001b[0;34m\"\\n\"\u001b[0m\u001b[0;34m)\u001b[0m\u001b[0;34m\u001b[0m\u001b[0;34m\u001b[0m\u001b[0m\n\u001b[1;32m     16\u001b[0m         \u001b[0mfptr\u001b[0m\u001b[0;34m.\u001b[0m\u001b[0mwrite\u001b[0m\u001b[0;34m(\u001b[0m\u001b[0;34m\"test set \"\u001b[0m \u001b[0;34m+\u001b[0m \u001b[0mstr\u001b[0m\u001b[0;34m(\u001b[0m\u001b[0mi\u001b[0m \u001b[0;34m+\u001b[0m \u001b[0;36m1\u001b[0m\u001b[0;34m)\u001b[0m \u001b[0;34m+\u001b[0m \u001b[0;34m\": [\"\u001b[0m \u001b[0;34m+\u001b[0m \u001b[0mstr\u001b[0m\u001b[0;34m(\u001b[0m\u001b[0ms\u001b[0m\u001b[0;34m.\u001b[0m\u001b[0mjoin\u001b[0m\u001b[0;34m(\u001b[0m\u001b[0mtest_sets\u001b[0m\u001b[0;34m[\u001b[0m\u001b[0mi\u001b[0m\u001b[0;34m]\u001b[0m\u001b[0;34m)\u001b[0m\u001b[0;34m)\u001b[0m \u001b[0;34m+\u001b[0m \u001b[0;34m\"]\"\u001b[0m \u001b[0;34m+\u001b[0m \u001b[0;34m\"\\n\"\u001b[0m\u001b[0;34m)\u001b[0m\u001b[0;34m\u001b[0m\u001b[0;34m\u001b[0m\u001b[0m\n",
      "\u001b[0;31mNameError\u001b[0m: name 'fptr' is not defined"
     ]
    }
   ],
   "source": [
    "def test1():\n",
    "    list_of_indices = []\n",
    "    for i in range(10):\n",
    "        list_of_indices.append(i)\n",
    "    train_sets, test_sets = kfold_split(list_of_indices, 5)\n",
    "    for i in range(len(train_sets)):\n",
    "        for j in range(len(train_sets[i])):\n",
    "            train_sets[i][j] = str(train_sets[i][j])\n",
    "    for i in range(len(test_sets)):\n",
    "        for j in range(len(test_sets[i])):\n",
    "            test_sets[i][j] = str(test_sets[i][j])\n",
    "    s = \", \"\n",
    "    for i in range(len(train_sets)):\n",
    "        fptr.write(\"train set \" + str(i + 1) + \": [\" + str(s.join(train_sets[i])) + \"]\" + \"\\n\")\n",
    "        fptr.write(\"size of train set \" + str(i + 1) + \": \" + str(len(train_sets[i])) + \"\\n\")\n",
    "        fptr.write(\"test set \" + str(i + 1) + \": [\" + str(s.join(test_sets[i])) + \"]\" + \"\\n\")\n",
    "        fptr.write(\"size of test set \" + str(i + 1) + \": \" + str(len(test_sets[i])) + \"\\n\")\n",
    "test1()"
   ]
  },
  {
   "cell_type": "code",
   "execution_count": null,
   "id": "cbbdc9b3",
   "metadata": {},
   "outputs": [],
   "source": [
    "def test2():\n",
    "    list_of_indices = []\n",
    "    for i in range(23):\n",
    "        list_of_indices.append(i)\n",
    "        train_sets, test_sets = kfold_split(list_of_indices, 4)\n",
    "    for i in range(len(train_sets)):\n",
    "        for j in range(len(train_sets[i])):\n",
    "            train_sets[i][j] = str(train_sets[i][j])\n",
    "    for i in range(len(test_sets)):\n",
    "        for j in range(len(test_sets[i])):\n",
    "            test_sets[i][j] = str(test_sets[i][j])\n",
    "    s = \", \"\n",
    "    for i in range(len(train_sets)):\n",
    "        fptr.write(\"train set \" + str(i + 1) + \": [\" + str(s.join(train_sets[i])) + \"]\" + \"\\n\")\n",
    "        fptr.write(\"size of train set \" + str(i + 1) + \": \" + str(len(train_sets[i])) + \"\\n\")\n",
    "        fptr.write(\"test set \" + str(i + 1) + \": [\" + str(s.join(test_sets[i])) + \"]\" + \"\\n\")\n",
    "        fptr.write(\"size of test set \" + str(i + 1) + \": \" + str(len(test_sets[i])) + \"\\n\")\n",
    "test2()"
   ]
  },
  {
   "cell_type": "code",
   "execution_count": null,
   "id": "202a6288",
   "metadata": {},
   "outputs": [],
   "source": [
    "def test3():\n",
    "    list_of_indices = []\n",
    "    for i in range(284):\n",
    "        list_of_indices.append(i)\n",
    "        train_sets, test_sets = kfold_split(list_of_indices, 10)\n",
    "    for i in range(len(train_sets)):\n",
    "        for j in range(len(train_sets[i])):\n",
    "            train_sets[i][j] = str(train_sets[i][j])\n",
    "    for i in range(len(test_sets)):\n",
    "        for j in range(len(test_sets[i])):\n",
    "            test_sets[i][j] = str(test_sets[i][j])\n",
    "    s = \", \"\n",
    "    for i in range(len(train_sets)):\n",
    "        fptr.write(\"train set \" + str(i + 1) + \": [\" + str(s.join(train_sets[i])) + \"]\" + \"\\n\")\n",
    "        fptr.write(\"size of train set \" + str(i + 1) + \": \" + str(len(train_sets[i])) + \"\\n\")\n",
    "        fptr.write(\"test set \" + str(i + 1) + \": [\" + str(s.join(test_sets[i])) + \"]\" + \"\\n\")\n",
    "        fptr.write(\"size of test set \" + str(i + 1) + \": \" + str(len(test_sets[i])) + \"\\n\")\n",
    "test3()"
   ]
  },
  {
   "cell_type": "code",
   "execution_count": null,
   "id": "9a6ffc46",
   "metadata": {},
   "outputs": [],
   "source": [
    "def test4():\n",
    "    list_of_indices = []\n",
    "    for i in range(1000):\n",
    "        list_of_indices.append(i)\n",
    "        train_sets, test_sets = kfold_split(list_of_indices, 11)\n",
    "    for i in range(len(train_sets)):\n",
    "        for j in range(len(train_sets[i])):\n",
    "            train_sets[i][j] = str(train_sets[i][j])\n",
    "    for i in range(len(test_sets)):\n",
    "        for j in range(len(test_sets[i])):\n",
    "            test_sets[i][j] = str(test_sets[i][j])\n",
    "    s = \", \"\n",
    "    for i in range(len(train_sets)):\n",
    "        fptr.write(\"train set \" + str(i + 1) + \": [\" + str(s.join(train_sets[i])) + \"]\" + \"\\n\")\n",
    "        fptr.write(\"size of train set \" + str(i + 1) + \": \" + str(len(train_sets[i])) + \"\\n\")\n",
    "        fptr.write(\"test set \" + str(i + 1) + \": [\" + str(s.join(test_sets[i])) + \"]\" + \"\\n\")\n",
    "        fptr.write(\"size of test set \" + str(i + 1) + \": \" + str(len(test_sets[i])) + \"\\n\")\n",
    "test4()"
   ]
  },
  {
   "cell_type": "code",
   "execution_count": null,
   "id": "6a6182b4",
   "metadata": {},
   "outputs": [],
   "source": [
    "def test5():\n",
    "    list_of_indices = []\n",
    "    for i in range(100):\n",
    "        list_of_indices.append(i)\n",
    "    try:\n",
    "        train_sets, test_sets = kfold_split(list_of_indices, 101)\n",
    "    except: RuntimeError\n",
    "        fptr.write(\"pass\")"
   ]
  }
 ],
 "metadata": {
  "kernelspec": {
   "display_name": "Python 3",
   "language": "python",
   "name": "python3"
  },
  "language_info": {
   "codemirror_mode": {
    "name": "ipython",
    "version": 3
   },
   "file_extension": ".py",
   "mimetype": "text/x-python",
   "name": "python",
   "nbconvert_exporter": "python",
   "pygments_lexer": "ipython3",
   "version": "3.8.12"
  }
 },
 "nbformat": 4,
 "nbformat_minor": 5
}
