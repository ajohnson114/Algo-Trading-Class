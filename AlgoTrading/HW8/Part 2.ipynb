{
 "cells": [
  {
   "cell_type": "code",
   "execution_count": 1,
   "id": "add81051",
   "metadata": {},
   "outputs": [],
   "source": [
    "import pandas as pd\n",
    "import numpy as np"
   ]
  },
  {
   "cell_type": "code",
   "execution_count": 214,
   "id": "69cdd6a0",
   "metadata": {},
   "outputs": [],
   "source": [
    "results = pd.read_csv('input000-12.txt')"
   ]
  },
  {
   "cell_type": "code",
   "execution_count": null,
   "id": "30ebe051",
   "metadata": {},
   "outputs": [],
   "source": [
    "import os\n",
    "import pandas as pd\n",
    "import numpy as np\n",
    "from statistics import stdev\n",
    "\n",
    "def histogram_weekly_losses(results):\n",
    "    # create histogram for the weekly losses\n",
    "    # use the folloing functions with bins=50\n",
    "    results['diff'] = results.Pnl.diff(periods = 5)\n",
    "    res = []\n",
    "    for i in range(len(results)):\n",
    "        if results['diff'][i] < 0:\n",
    "            res.append(results['diff'][i])\n",
    "    weekly_losses,_= np.histogram(res,bins=50)\n",
    "    return weekly_losses\n",
    "\n",
    "\n",
    "def histogram_monthly_losses(results):\n",
    "    # create histogram for the monthly losses\n",
    "    # use the folloing functions with bins=50\n",
    "    results['diff'] = results.Pnl.diff(periods = 20)\n",
    "    res = []\n",
    "    for i in range(len(results)):\n",
    "        if results['diff'][i] < 0:\n",
    "            res.append(results['diff'][i])\n",
    "    monthly_losses,_= np.histogram(res,bins=50)\n",
    "    return monthly_losses\n",
    "    \n",
    "\n",
    "def max_draw_down(results):\n",
    "    #calculate max drawdown\n",
    "    drawdown_max_pnl = np.max(results['Pnl'])\n",
    "    return round(drawdown_max_pnl,2)\n",
    "    #drawdown_max_pnl = min(results.Pnl)\n",
    "    #return round(drawdown_max_pnl,2)\n",
    "\n",
    "\n",
    "def histogram_position_holding_times(results):\n",
    "    #calculate histogram for the position holding times\n",
    "    position_holding_times = []\n",
    "    count = 0\n",
    "    for i in range(len(results)):\n",
    "        if results.Position[i] != 0:\n",
    "            count+= 1\n",
    "        elif results.Position[i] == 0 and count:\n",
    "            position_holding_times.append(count)\n",
    "            count = 0\n",
    "\n",
    "    histogram_position_holding_times,ht=np.histogram(position_holding_times,bins=50)\n",
    "    pdf=pd.DataFrame(histogram_position_holding_times,\n",
    "                     index=ht[:-1],columns=[\"count\"])\n",
    "    pdf.index.name=\"bins\"\n",
    "    return pdf\n",
    "\n",
    "def volatility_summary(results):\n",
    "    #sharpe ratio = avg daily pnl / std daily pnl\n",
    "    weekly_pnls = results.Pnl.diff(periods = 5).dropna()\n",
    "    weekly_pnls = [weekly_pnls[i] for i in range(len(weekly_pnls)) if i % 5==0]\n",
    "    avgpnl = np.mean(weekly_pnls)\n",
    "    sharpe_ratio = avgpnl/ stdev(weekly_pnls)\n",
    "    sortino_ratio = avgpnl / stdev([i for i in weekly_pnls if i<0])\n",
    "    # give the volatlity summary for:\n",
    "    print('PnL Standard Deviation:', stdev(weekly_pnls))\n",
    "    print('Sharpe ratio:', sharpe_ratio)\n",
    "    print('Sortino ratio:', sortino_ratio)\n",
    "    pdf=pd.DataFrame([stdev(weekly_pnls),sharpe_ratio,sortino_ratio],\n",
    "                     index=['PnL Standard Deviation','Sharpe ratio:','Sortino ratio:'],columns=['Summary'])\n",
    "    return pdf\n",
    "\n",
    "\n",
    "def traded_volume_summary(results):\n",
    "    # calculate the total traded volume\n",
    "    traded_volume = sum(abs(results.Position.diff().dropna()))\n",
    "    print('Total traded volume:', traded_volume)\n",
    "    return traded_volume\n",
    "\n",
    "if __name__ == '__main__':\n",
    "    fptr = open(os.environ['OUTPUT_PATH'], 'w')\n",
    "    test_function_name = input()\n",
    "    rows_num = int(input().strip())\n",
    "    data = []\n",
    "    colnames = list(map(str, input().rstrip().split(',')))\n",
    "    for i in range(rows_num):\n",
    "        line = list(map(str, input().split(',')))\n",
    "        line[0] = line[0]\n",
    "        line[1] = float(line[1])\n",
    "        line[2] = float(line[2])\n",
    "        line[3] = float(line[3])\n",
    "        line[4] = float(line[4])\n",
    "        line[5] = float(line[5])\n",
    "        line[6] = float(line[6])\n",
    "        line[7] = float(line[7])\n",
    "        line[8] = float(line[8])\n",
    "        line[9] = float(line[9])\n",
    "        line[10] = float(line[10])\n",
    "        line[11] = float(line[11])\n",
    "        line[12] = float(line[12])\n",
    "        line[13] = float(line[13])\n",
    "        \n",
    "        data.append(line)    \n",
    "\n",
    "    results = pd.DataFrame(data, columns = colnames)\n",
    "    results.index=results['Date']\n",
    "\n",
    "    \n",
    "    res=globals()[test_function_name](results)\n",
    "    fptr.write(str(res))"
   ]
  },
  {
   "cell_type": "code",
   "execution_count": 118,
   "id": "c35fb343",
   "metadata": {},
   "outputs": [],
   "source": [
    "def LIS(array):\n",
    "    ans = [1]*len(array)\n",
    "    for i in range(len(array)-1,-1,-1):\n",
    "        for j in range(i+1,len(array)):\n",
    "            if array[i] < array[j]:\n",
    "                ans[i] = max(ans[i],1+ans[j])\n",
    "                \n",
    "    return max(ans)"
   ]
  },
  {
   "cell_type": "code",
   "execution_count": 119,
   "id": "b35e7277",
   "metadata": {},
   "outputs": [],
   "source": [
    "x = [1,2,3,5,345,45,3,23424,3,3,2432,4,24]"
   ]
  },
  {
   "cell_type": "code",
   "execution_count": 120,
   "id": "2a314bbe",
   "metadata": {},
   "outputs": [
    {
     "data": {
      "text/plain": [
       "6"
      ]
     },
     "execution_count": 120,
     "metadata": {},
     "output_type": "execute_result"
    }
   ],
   "source": [
    "LIS(x)"
   ]
  },
  {
   "cell_type": "code",
   "execution_count": 121,
   "id": "21100952",
   "metadata": {},
   "outputs": [
    {
     "data": {
      "text/plain": [
       "13"
      ]
     },
     "execution_count": 121,
     "metadata": {},
     "output_type": "execute_result"
    }
   ],
   "source": [
    "len(x)"
   ]
  },
  {
   "cell_type": "code",
   "execution_count": 122,
   "id": "6e1b9db9",
   "metadata": {},
   "outputs": [],
   "source": [
    "x = list(range(10))"
   ]
  },
  {
   "cell_type": "code",
   "execution_count": 123,
   "id": "1b553528",
   "metadata": {},
   "outputs": [
    {
     "data": {
      "text/plain": [
       "10"
      ]
     },
     "execution_count": 123,
     "metadata": {},
     "output_type": "execute_result"
    }
   ],
   "source": [
    "LIS(x)"
   ]
  },
  {
   "cell_type": "code",
   "execution_count": 124,
   "id": "da45fdcf",
   "metadata": {},
   "outputs": [],
   "source": [
    "x = [1,3,5,6,7,8,2,12,21,4,424,654,64,31,31,3,13,13,4,325,34,53,45,345,3]"
   ]
  },
  {
   "cell_type": "code",
   "execution_count": 125,
   "id": "bcf0bc94",
   "metadata": {},
   "outputs": [
    {
     "data": {
      "text/plain": [
       "12"
      ]
     },
     "execution_count": 125,
     "metadata": {},
     "output_type": "execute_result"
    }
   ],
   "source": [
    "LIS(x)"
   ]
  },
  {
   "cell_type": "code",
   "execution_count": null,
   "id": "ac446b59",
   "metadata": {},
   "outputs": [],
   "source": []
  }
 ],
 "metadata": {
  "kernelspec": {
   "display_name": "Python 3 (ipykernel)",
   "language": "python",
   "name": "python3"
  },
  "language_info": {
   "codemirror_mode": {
    "name": "ipython",
    "version": 3
   },
   "file_extension": ".py",
   "mimetype": "text/x-python",
   "name": "python",
   "nbconvert_exporter": "python",
   "pygments_lexer": "ipython3",
   "version": "3.8.12"
  }
 },
 "nbformat": 4,
 "nbformat_minor": 5
}
