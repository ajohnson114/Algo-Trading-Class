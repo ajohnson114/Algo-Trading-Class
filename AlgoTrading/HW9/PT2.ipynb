{
 "cells": [
  {
   "cell_type": "code",
   "execution_count": 1,
   "id": "cb5ce2bb",
   "metadata": {},
   "outputs": [],
   "source": [
    "import pandas as pd\n",
    "import math\n",
    "from datetime import datetime"
   ]
  },
  {
   "cell_type": "code",
   "execution_count": 24,
   "id": "fda8b376",
   "metadata": {},
   "outputs": [],
   "source": [
    "df = pd.read_csv(\"input000-13.txt\")"
   ]
  },
  {
   "cell_type": "code",
   "execution_count": 3,
   "id": "abac8547",
   "metadata": {},
   "outputs": [
    {
     "data": {
      "text/html": [
       "<div>\n",
       "<style scoped>\n",
       "    .dataframe tbody tr th:only-of-type {\n",
       "        vertical-align: middle;\n",
       "    }\n",
       "\n",
       "    .dataframe tbody tr th {\n",
       "        vertical-align: top;\n",
       "    }\n",
       "\n",
       "    .dataframe thead th {\n",
       "        text-align: right;\n",
       "    }\n",
       "</style>\n",
       "<table border=\"1\" class=\"dataframe\">\n",
       "  <thead>\n",
       "    <tr style=\"text-align: right;\">\n",
       "      <th></th>\n",
       "      <th>Date</th>\n",
       "      <th>Open</th>\n",
       "      <th>High</th>\n",
       "      <th>Low</th>\n",
       "      <th>Close</th>\n",
       "      <th>Volume</th>\n",
       "    </tr>\n",
       "  </thead>\n",
       "  <tbody>\n",
       "    <tr>\n",
       "      <th>0</th>\n",
       "      <td>2021-08-12 04:00:00</td>\n",
       "      <td>145.61</td>\n",
       "      <td>145.67</td>\n",
       "      <td>145.59</td>\n",
       "      <td>145.62</td>\n",
       "      <td>2188</td>\n",
       "    </tr>\n",
       "    <tr>\n",
       "      <th>1</th>\n",
       "      <td>2021-08-12 04:05:00</td>\n",
       "      <td>145.55</td>\n",
       "      <td>145.55</td>\n",
       "      <td>145.51</td>\n",
       "      <td>145.51</td>\n",
       "      <td>850</td>\n",
       "    </tr>\n",
       "    <tr>\n",
       "      <th>2</th>\n",
       "      <td>2021-08-12 04:10:00</td>\n",
       "      <td>145.50</td>\n",
       "      <td>145.50</td>\n",
       "      <td>145.50</td>\n",
       "      <td>145.50</td>\n",
       "      <td>281</td>\n",
       "    </tr>\n",
       "    <tr>\n",
       "      <th>3</th>\n",
       "      <td>2021-08-12 04:30:00</td>\n",
       "      <td>145.61</td>\n",
       "      <td>145.69</td>\n",
       "      <td>145.61</td>\n",
       "      <td>145.69</td>\n",
       "      <td>702</td>\n",
       "    </tr>\n",
       "    <tr>\n",
       "      <th>4</th>\n",
       "      <td>2021-08-12 04:35:00</td>\n",
       "      <td>145.70</td>\n",
       "      <td>145.70</td>\n",
       "      <td>145.70</td>\n",
       "      <td>145.70</td>\n",
       "      <td>117</td>\n",
       "    </tr>\n",
       "  </tbody>\n",
       "</table>\n",
       "</div>"
      ],
      "text/plain": [
       "                  Date    Open    High     Low   Close  Volume\n",
       "0  2021-08-12 04:00:00  145.61  145.67  145.59  145.62    2188\n",
       "1  2021-08-12 04:05:00  145.55  145.55  145.51  145.51     850\n",
       "2  2021-08-12 04:10:00  145.50  145.50  145.50  145.50     281\n",
       "3  2021-08-12 04:30:00  145.61  145.69  145.61  145.69     702\n",
       "4  2021-08-12 04:35:00  145.70  145.70  145.70  145.70     117"
      ]
     },
     "execution_count": 3,
     "metadata": {},
     "output_type": "execute_result"
    }
   ],
   "source": [
    "df.head()"
   ]
  },
  {
   "cell_type": "code",
   "execution_count": 25,
   "id": "948e3e8a",
   "metadata": {},
   "outputs": [],
   "source": [
    "# Compute the VWAP from the formula listed in the link\n",
    "def compute_VWAP(df):\n",
    "    p = (df.High + df.Low)/2\n",
    "    q = df.Volume\n",
    "    df[\"VWAP\"] = (p*q).cumsum() / q.cumsum()\n",
    "    \n",
    "    #return df"
   ]
  },
  {
   "cell_type": "code",
   "execution_count": 26,
   "id": "519a7906",
   "metadata": {},
   "outputs": [],
   "source": [
    "compute_VWAP(df)"
   ]
  },
  {
   "cell_type": "code",
   "execution_count": 27,
   "id": "032fc3e8",
   "metadata": {},
   "outputs": [
    {
     "data": {
      "text/html": [
       "<div>\n",
       "<style scoped>\n",
       "    .dataframe tbody tr th:only-of-type {\n",
       "        vertical-align: middle;\n",
       "    }\n",
       "\n",
       "    .dataframe tbody tr th {\n",
       "        vertical-align: top;\n",
       "    }\n",
       "\n",
       "    .dataframe thead th {\n",
       "        text-align: right;\n",
       "    }\n",
       "</style>\n",
       "<table border=\"1\" class=\"dataframe\">\n",
       "  <thead>\n",
       "    <tr style=\"text-align: right;\">\n",
       "      <th></th>\n",
       "      <th>Date</th>\n",
       "      <th>Open</th>\n",
       "      <th>High</th>\n",
       "      <th>Low</th>\n",
       "      <th>Close</th>\n",
       "      <th>Volume</th>\n",
       "      <th>VWAP</th>\n",
       "    </tr>\n",
       "  </thead>\n",
       "  <tbody>\n",
       "    <tr>\n",
       "      <th>0</th>\n",
       "      <td>2021-08-12 04:00:00</td>\n",
       "      <td>145.61</td>\n",
       "      <td>145.67</td>\n",
       "      <td>145.59</td>\n",
       "      <td>145.62</td>\n",
       "      <td>2188</td>\n",
       "      <td>145.630000</td>\n",
       "    </tr>\n",
       "    <tr>\n",
       "      <th>1</th>\n",
       "      <td>2021-08-12 04:05:00</td>\n",
       "      <td>145.55</td>\n",
       "      <td>145.55</td>\n",
       "      <td>145.51</td>\n",
       "      <td>145.51</td>\n",
       "      <td>850</td>\n",
       "      <td>145.602021</td>\n",
       "    </tr>\n",
       "    <tr>\n",
       "      <th>2</th>\n",
       "      <td>2021-08-12 04:10:00</td>\n",
       "      <td>145.50</td>\n",
       "      <td>145.50</td>\n",
       "      <td>145.50</td>\n",
       "      <td>145.50</td>\n",
       "      <td>281</td>\n",
       "      <td>145.593384</td>\n",
       "    </tr>\n",
       "    <tr>\n",
       "      <th>3</th>\n",
       "      <td>2021-08-12 04:30:00</td>\n",
       "      <td>145.61</td>\n",
       "      <td>145.69</td>\n",
       "      <td>145.61</td>\n",
       "      <td>145.69</td>\n",
       "      <td>702</td>\n",
       "      <td>145.603268</td>\n",
       "    </tr>\n",
       "    <tr>\n",
       "      <th>4</th>\n",
       "      <td>2021-08-12 04:35:00</td>\n",
       "      <td>145.70</td>\n",
       "      <td>145.70</td>\n",
       "      <td>145.70</td>\n",
       "      <td>145.70</td>\n",
       "      <td>117</td>\n",
       "      <td>145.606003</td>\n",
       "    </tr>\n",
       "  </tbody>\n",
       "</table>\n",
       "</div>"
      ],
      "text/plain": [
       "                  Date    Open    High     Low   Close  Volume        VWAP\n",
       "0  2021-08-12 04:00:00  145.61  145.67  145.59  145.62    2188  145.630000\n",
       "1  2021-08-12 04:05:00  145.55  145.55  145.51  145.51     850  145.602021\n",
       "2  2021-08-12 04:10:00  145.50  145.50  145.50  145.50     281  145.593384\n",
       "3  2021-08-12 04:30:00  145.61  145.69  145.61  145.69     702  145.603268\n",
       "4  2021-08-12 04:35:00  145.70  145.70  145.70  145.70     117  145.606003"
      ]
     },
     "execution_count": 27,
     "metadata": {},
     "output_type": "execute_result"
    }
   ],
   "source": [
    "df.head()"
   ]
  },
  {
   "cell_type": "code",
   "execution_count": null,
   "id": "57539fdb",
   "metadata": {},
   "outputs": [],
   "source": []
  }
 ],
 "metadata": {
  "kernelspec": {
   "display_name": "Python 3 (ipykernel)",
   "language": "python",
   "name": "python3"
  },
  "language_info": {
   "codemirror_mode": {
    "name": "ipython",
    "version": 3
   },
   "file_extension": ".py",
   "mimetype": "text/x-python",
   "name": "python",
   "nbconvert_exporter": "python",
   "pygments_lexer": "ipython3",
   "version": "3.8.12"
  }
 },
 "nbformat": 4,
 "nbformat_minor": 5
}
