{
 "cells": [
  {
   "cell_type": "code",
   "execution_count": 3,
   "id": "fd9b0f13",
   "metadata": {},
   "outputs": [
    {
     "name": "stdout",
     "output_type": "stream",
     "text": [
      "Sent:     -f /Users/Andrew/Library/Jupyter/runtime/kernel-6506f781-e735-4750-a80e-b9ece94d7e6b.json\n",
      "Received: -F /USERS/ANDREW/LIBRARY/JUPYTER/RUNTIME/KERNEL-6506F781-E735-4750-A80E-B9ECE94D7E6B.JSON\n"
     ]
    }
   ],
   "source": [
    "import socket\n",
    "import sys\n",
    "\n",
    "HOST, PORT = \"localhost\", 9999\n",
    "data = \" \".join(sys.argv[1:])\n",
    "\n",
    "# Create a socket (SOCK_STREAM means a TCP socket)\n",
    "with socket.socket(socket.AF_INET, socket.SOCK_STREAM) as sock:\n",
    "    # Connect to server and send data\n",
    "    sock.connect((HOST, PORT))\n",
    "    sock.sendall(bytes(data + \"\\n\", \"utf-8\"))\n",
    "\n",
    "    # Receive data from the server and shut down\n",
    "    received = str(sock.recv(1024), \"utf-8\")\n",
    "\n",
    "print(\"Sent:     {}\".format(data))\n",
    "print(\"Received: {}\".format(received))"
   ]
  },
  {
   "cell_type": "code",
   "execution_count": 4,
   "id": "61875fe1",
   "metadata": {},
   "outputs": [
    {
     "ename": "KeyboardInterrupt",
     "evalue": "",
     "output_type": "error",
     "traceback": [
      "\u001b[0;31m---------------------------------------------------------------------------\u001b[0m",
      "\u001b[0;31mKeyboardInterrupt\u001b[0m                         Traceback (most recent call last)",
      "\u001b[0;32m/var/folders/33/tdj09r9s7gg104qwcdv9y6mw0000gn/T/ipykernel_73281/2453634171.py\u001b[0m in \u001b[0;36m<module>\u001b[0;34m\u001b[0m\n\u001b[1;32m     27\u001b[0m     \u001b[0;32mwhile\u001b[0m \u001b[0;32mTrue\u001b[0m\u001b[0;34m:\u001b[0m\u001b[0;34m\u001b[0m\u001b[0;34m\u001b[0m\u001b[0m\n\u001b[1;32m     28\u001b[0m         \u001b[0;31m# Receive data from the server and shut down\u001b[0m\u001b[0;34m\u001b[0m\u001b[0;34m\u001b[0m\u001b[0;34m\u001b[0m\u001b[0m\n\u001b[0;32m---> 29\u001b[0;31m         \u001b[0mreceived\u001b[0m \u001b[0;34m=\u001b[0m \u001b[0mstr\u001b[0m\u001b[0;34m(\u001b[0m\u001b[0msock\u001b[0m\u001b[0;34m.\u001b[0m\u001b[0mrecv\u001b[0m\u001b[0;34m(\u001b[0m\u001b[0;36m1024\u001b[0m\u001b[0;34m)\u001b[0m\u001b[0;34m,\u001b[0m \u001b[0;34m\"utf-8\"\u001b[0m\u001b[0;34m)\u001b[0m\u001b[0;34m\u001b[0m\u001b[0;34m\u001b[0m\u001b[0m\n\u001b[0m\u001b[1;32m     30\u001b[0m         \u001b[0;31m# print(\"Received: {}\".format(received))\u001b[0m\u001b[0;34m\u001b[0m\u001b[0;34m\u001b[0m\u001b[0;34m\u001b[0m\u001b[0m\n\u001b[1;32m     31\u001b[0m         \u001b[0mdeserialized_string\u001b[0m\u001b[0;34m=\u001b[0m\u001b[0mjson\u001b[0m\u001b[0;34m.\u001b[0m\u001b[0mloads\u001b[0m\u001b[0;34m(\u001b[0m\u001b[0mreceived\u001b[0m\u001b[0;34m)\u001b[0m\u001b[0;34m\u001b[0m\u001b[0;34m\u001b[0m\u001b[0m\n",
      "\u001b[0;31mKeyboardInterrupt\u001b[0m: "
     ]
    }
   ],
   "source": [
    "import socket\n",
    "import sys\n",
    "\n",
    "\n",
    "import json\n",
    "\n",
    "HOST, PORT = \"localhost\", 9999\n",
    "data = \"logon message from Seb\"\n",
    "\n",
    "class Strategy1:\n",
    "    def __init__(self):\n",
    "        self.count = 0\n",
    "    def handle_md(self,md):\n",
    "        self.count +=1\n",
    "    def update_action(self):\n",
    "        if self.count % 5 == 0:\n",
    "            return \"BUY\"\n",
    "\n",
    "\n",
    "seb_strategy=Strategy1()\n",
    "\n",
    "# Create a socket (SOCK_STREAM means a TCP socket)\n",
    "with socket.socket(socket.AF_INET, socket.SOCK_STREAM) as sock:\n",
    "    # Connect to server and send data\n",
    "    sock.connect((HOST, PORT))\n",
    "\n",
    "    while True:\n",
    "        # Receive data from the server and shut down\n",
    "        received = str(sock.recv(1024), \"utf-8\")\n",
    "        # print(\"Received: {}\".format(received))\n",
    "        deserialized_string=json.loads(received)\n",
    "        print(deserialized_string['Price'],deserialized_string['Quantity'])\n",
    "        seb_strategy.handle_md(deserialized_string)\n",
    "        if(seb_strategy.update_action()=='BUY'):\n",
    "            print(\"BUY\")"
   ]
  },
  {
   "cell_type": "code",
   "execution_count": 11,
   "id": "77fbc3a1",
   "metadata": {},
   "outputs": [
    {
     "name": "stderr",
     "output_type": "stream",
     "text": [
      "usage: usage: tcp_server -p port [-f -m]\n",
      "ipykernel_launcher.py: error: Port not given\n"
     ]
    },
    {
     "ename": "SystemExit",
     "evalue": "2",
     "output_type": "error",
     "traceback": [
      "An exception has occurred, use %tb to see the full traceback.\n",
      "\u001b[0;31mSystemExit\u001b[0m\u001b[0;31m:\u001b[0m 2\n"
     ]
    }
   ],
   "source": [
    "import socket\n",
    "import threading\n",
    "import csv\n",
    "import json\n",
    "import argparse\n",
    "import sys\n",
    "import time\n",
    "import datetime\n",
    "\n",
    "class ThreadedServer(object):\n",
    "    def __init__(self, host,opt):\n",
    "        self.environment = {}\n",
    "        self.environment['NoMode'] = {'points' : 0}\n",
    "        self.environment['Occupancy'] = {'occupancy' : 0, 'points' : 0}\n",
    "        self.host = host\n",
    "        self.port = 9999\n",
    "        self.opt = opt\n",
    "        self.state = self.environment[opt.mode if opt.mode else 'NoMode']\n",
    "        self.sock = socket.socket(socket.AF_INET, socket.SOCK_STREAM)\n",
    "        self.sock.setsockopt(socket.SOL_SOCKET, socket.SO_REUSEADDR, 1)\n",
    "        self.sock.bind((self.host, self.port))\n",
    "        self.lock = threading.Lock()\n",
    "\n",
    "    def listen(self):\n",
    "        self.sock.listen(5)\n",
    "        while True:\n",
    "            client, address = self.sock.accept()\n",
    "            client.settimeout(500)\n",
    "            threading.Thread(target = self.listenToClient,args = (client,address)).start()\n",
    "            threading.Thread(target = self.sendStreamToClient,args =\n",
    "                             (client,self.sendCSVfile())).start()\n",
    "\n",
    "    def handle_client_answer(self,obj):\n",
    "        if self.opt.mode is not None and self.opt.mode=='Occupancy':\n",
    "            \n",
    "            if 'Occupancy' not in obj:\n",
    "                return\n",
    "            self.lock.acquire()\n",
    "            if self.state['occupancy'] == int(obj['Occupancy']):\n",
    "                self.state['points']+=1 \n",
    "            self.lock.release()\n",
    "        return \n",
    "\n",
    "    def listenToClient(self, client, address):\n",
    "        size = 1024\n",
    "        while True:\n",
    "            try:\n",
    "                data = client.recv(size).decode()\n",
    "                if data:\n",
    "                    # Set the response to echo back the recieved data\n",
    "                    a=json.loads(data.rstrip('\\n\\r '))\n",
    "                    self.handle_client_answer(a)\n",
    "    \n",
    "                    #client.send(response)\n",
    "                else:\n",
    "                    print('Client disconnected')\n",
    "                    return False\n",
    "            except:\n",
    "                print('Client closed the connection')\n",
    "                print (\"Unexpected error:\", sys.exc_info()[0])\n",
    "                client.close()\n",
    "                return False\n",
    "\n",
    "    def handleCustomData(self,buffer):\n",
    "        if self.opt.mode is not None and self.opt.mode=='Occupancy':\n",
    "            self.lock.acquire()\n",
    "            buffer['date']=datetime.datetime.now().strftime(\"%Y-%m-%d %H:%M:%S\")\n",
    "            self.state['occupancy']= int(buffer['Occupancy'])\n",
    "            buffer['Occupancy']=-1\n",
    "            self.lock.release()\n",
    "\n",
    "    def sendStreamToClient(self,client,buffer):\n",
    "        for i in buffer:\n",
    "            print(i)\n",
    "            self.handleCustomData(i)\n",
    "            try:\n",
    "                client.send((self.convertStringToJSON(i)+'\\n').encode('utf-8'))\n",
    "                time.sleep(self.opt.interval)\n",
    "            except:\n",
    "                print('End of stream')\n",
    "                return False\n",
    "        client.send((self.convertStringToJSON(self.state)+'\\n').encode('utf-8'))   \n",
    "        return False\n",
    "\n",
    "    def convertStringToJSON(self,st):\n",
    "        return json.dumps(st)\n",
    "            \n",
    "    def sendCSVfile(self):\n",
    "        out=[]\n",
    "        for f in self.opt.files:\n",
    "            print ('reading file %s...' % f)\n",
    "            csvfile = open(f, 'r')\n",
    "            reader = csv.DictReader( csvfile)\n",
    "            for row in reader:\n",
    "                out+=[row]\n",
    "        return out\n",
    "\n",
    "if __name__ == \"__main__\":\n",
    "    parser = argparse.ArgumentParser(usage='usage: tcp_server -p port [-f -m]')\n",
    "    parser.add_argument('-f', '--files', nargs='+')\n",
    "    parser.add_argument(\"-m\", \"--mode\",action=\"store\", dest=\"mode\")\n",
    "    parser.add_argument(\"-p\", \"--port\",action=\"store\", dest=\"port\",type=int)\n",
    "    parser.add_argument(\"-t\", \"--time-interval\",action=\"store\",\n",
    "                        dest=\"interval\",type=int,default=1)\n",
    "    \n",
    "    opt=parser.parse_args()\n",
    "    if not opt.port:\n",
    "        parser.error('Port not given')\n",
    "    ThreadedServer('127.0.0.1',opt).listen()\n"
   ]
  },
  {
   "cell_type": "code",
   "execution_count": 12,
   "id": "04c28a5d",
   "metadata": {},
   "outputs": [
    {
     "ename": "AttributeError",
     "evalue": "'int' object has no attribute 'mode'",
     "output_type": "error",
     "traceback": [
      "\u001b[0;31m---------------------------------------------------------------------------\u001b[0m",
      "\u001b[0;31mAttributeError\u001b[0m                            Traceback (most recent call last)",
      "\u001b[0;32m/var/folders/33/tdj09r9s7gg104qwcdv9y6mw0000gn/T/ipykernel_73281/3711891730.py\u001b[0m in \u001b[0;36m<module>\u001b[0;34m\u001b[0m\n\u001b[0;32m----> 1\u001b[0;31m \u001b[0mserver\u001b[0m \u001b[0;34m=\u001b[0m \u001b[0mThreadedServer\u001b[0m\u001b[0;34m(\u001b[0m\u001b[0;34m\"localhost\"\u001b[0m\u001b[0;34m,\u001b[0m \u001b[0;36m9999\u001b[0m\u001b[0;34m)\u001b[0m\u001b[0;34m\u001b[0m\u001b[0;34m\u001b[0m\u001b[0m\n\u001b[0m\u001b[1;32m      2\u001b[0m \u001b[0mserver\u001b[0m\u001b[0;34m.\u001b[0m\u001b[0mlisten\u001b[0m\u001b[0;34m(\u001b[0m\u001b[0;34m)\u001b[0m\u001b[0;34m\u001b[0m\u001b[0;34m\u001b[0m\u001b[0m\n",
      "\u001b[0;32m/var/folders/33/tdj09r9s7gg104qwcdv9y6mw0000gn/T/ipykernel_73281/2147782867.py\u001b[0m in \u001b[0;36m__init__\u001b[0;34m(self, host, opt)\u001b[0m\n\u001b[1;32m     16\u001b[0m         \u001b[0mself\u001b[0m\u001b[0;34m.\u001b[0m\u001b[0mport\u001b[0m \u001b[0;34m=\u001b[0m \u001b[0;36m9999\u001b[0m\u001b[0;34m\u001b[0m\u001b[0;34m\u001b[0m\u001b[0m\n\u001b[1;32m     17\u001b[0m         \u001b[0mself\u001b[0m\u001b[0;34m.\u001b[0m\u001b[0mopt\u001b[0m \u001b[0;34m=\u001b[0m \u001b[0mopt\u001b[0m\u001b[0;34m\u001b[0m\u001b[0;34m\u001b[0m\u001b[0m\n\u001b[0;32m---> 18\u001b[0;31m         \u001b[0mself\u001b[0m\u001b[0;34m.\u001b[0m\u001b[0mstate\u001b[0m \u001b[0;34m=\u001b[0m \u001b[0mself\u001b[0m\u001b[0;34m.\u001b[0m\u001b[0menvironment\u001b[0m\u001b[0;34m[\u001b[0m\u001b[0mopt\u001b[0m\u001b[0;34m.\u001b[0m\u001b[0mmode\u001b[0m \u001b[0;32mif\u001b[0m \u001b[0mopt\u001b[0m\u001b[0;34m.\u001b[0m\u001b[0mmode\u001b[0m \u001b[0;32melse\u001b[0m \u001b[0;34m'NoMode'\u001b[0m\u001b[0;34m]\u001b[0m\u001b[0;34m\u001b[0m\u001b[0;34m\u001b[0m\u001b[0m\n\u001b[0m\u001b[1;32m     19\u001b[0m         \u001b[0mself\u001b[0m\u001b[0;34m.\u001b[0m\u001b[0msock\u001b[0m \u001b[0;34m=\u001b[0m \u001b[0msocket\u001b[0m\u001b[0;34m.\u001b[0m\u001b[0msocket\u001b[0m\u001b[0;34m(\u001b[0m\u001b[0msocket\u001b[0m\u001b[0;34m.\u001b[0m\u001b[0mAF_INET\u001b[0m\u001b[0;34m,\u001b[0m \u001b[0msocket\u001b[0m\u001b[0;34m.\u001b[0m\u001b[0mSOCK_STREAM\u001b[0m\u001b[0;34m)\u001b[0m\u001b[0;34m\u001b[0m\u001b[0;34m\u001b[0m\u001b[0m\n\u001b[1;32m     20\u001b[0m         \u001b[0mself\u001b[0m\u001b[0;34m.\u001b[0m\u001b[0msock\u001b[0m\u001b[0;34m.\u001b[0m\u001b[0msetsockopt\u001b[0m\u001b[0;34m(\u001b[0m\u001b[0msocket\u001b[0m\u001b[0;34m.\u001b[0m\u001b[0mSOL_SOCKET\u001b[0m\u001b[0;34m,\u001b[0m \u001b[0msocket\u001b[0m\u001b[0;34m.\u001b[0m\u001b[0mSO_REUSEADDR\u001b[0m\u001b[0;34m,\u001b[0m \u001b[0;36m1\u001b[0m\u001b[0;34m)\u001b[0m\u001b[0;34m\u001b[0m\u001b[0;34m\u001b[0m\u001b[0m\n",
      "\u001b[0;31mAttributeError\u001b[0m: 'int' object has no attribute 'mode'"
     ]
    }
   ],
   "source": [
    "server = ThreadedServer(\"localhost\", 9999)\n",
    "server.listen()"
   ]
  },
  {
   "cell_type": "code",
   "execution_count": null,
   "id": "8d53b626",
   "metadata": {},
   "outputs": [],
   "source": []
  }
 ],
 "metadata": {
  "kernelspec": {
   "display_name": "Python 3 (ipykernel)",
   "language": "python",
   "name": "python3"
  },
  "language_info": {
   "codemirror_mode": {
    "name": "ipython",
    "version": 3
   },
   "file_extension": ".py",
   "mimetype": "text/x-python",
   "name": "python",
   "nbconvert_exporter": "python",
   "pygments_lexer": "ipython3",
   "version": "3.8.12"
  }
 },
 "nbformat": 4,
 "nbformat_minor": 5
}
