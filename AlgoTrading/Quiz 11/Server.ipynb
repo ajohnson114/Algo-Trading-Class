{
 "cells": [
  {
   "cell_type": "code",
   "execution_count": 19,
   "id": "3927bb9f",
   "metadata": {},
   "outputs": [],
   "source": [
    "import myserver\n",
    "#import myclient\n",
    "import tcp_server\n",
    "import numpy as np\n",
    "import pandas as pd\n",
    "import socketserver"
   ]
  },
  {
   "cell_type": "code",
   "execution_count": 20,
   "id": "8023d2e4",
   "metadata": {},
   "outputs": [],
   "source": [
    "df = pd.read_csv(\"finance.csv\")"
   ]
  },
  {
   "cell_type": "code",
   "execution_count": null,
   "id": "e4540083",
   "metadata": {},
   "outputs": [
    {
     "name": "stdout",
     "output_type": "stream",
     "text": [
      "127.0.0.1 wrote:\n",
      "b''\n",
      "127.0.0.1 wrote:\n",
      "b'-f /Users/Andrew/Library/Jupyter/runtime/kernel-6506f781-e735-4750-a80e-b9ece94d7e6b.json'\n",
      "127.0.0.1 wrote:\n",
      "b''\n"
     ]
    }
   ],
   "source": [
    "HOST, PORT = \"localhost\", 9999\n",
    "\n",
    "# Create the server, binding to localhost on port 9999\n",
    "with socketserver.TCPServer((HOST, PORT), myserver.MyTCPHandler) as server:\n",
    "    # Activate the server; this will keep running until you\n",
    "    # interrupt the program with Ctrl-C\n",
    "    server.serve_forever()"
   ]
  },
  {
   "cell_type": "code",
   "execution_count": null,
   "id": "a664c5e6",
   "metadata": {},
   "outputs": [],
   "source": []
  }
 ],
 "metadata": {
  "kernelspec": {
   "display_name": "Python 3 (ipykernel)",
   "language": "python",
   "name": "python3"
  },
  "language_info": {
   "codemirror_mode": {
    "name": "ipython",
    "version": 3
   },
   "file_extension": ".py",
   "mimetype": "text/x-python",
   "name": "python",
   "nbconvert_exporter": "python",
   "pygments_lexer": "ipython3",
   "version": "3.8.12"
  }
 },
 "nbformat": 4,
 "nbformat_minor": 5
}
