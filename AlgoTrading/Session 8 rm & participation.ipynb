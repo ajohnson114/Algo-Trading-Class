{
 "cells": [
  {
   "cell_type": "code",
   "execution_count": 1,
   "id": "397f35d7",
   "metadata": {},
   "outputs": [],
   "source": [
    "import yfinance as yf\n",
    "import pandas as pd\n",
    "import numpy as np\n",
    "import sklearn "
   ]
  },
  {
   "cell_type": "code",
   "execution_count": 11,
   "id": "9dd6547e",
   "metadata": {},
   "outputs": [
    {
     "name": "stdout",
     "output_type": "stream",
     "text": [
      "[*********************100%***********************]  1 of 1 completed\n"
     ]
    }
   ],
   "source": [
    "df = yf.download(\"SPY\",start=\"2007-01-01\",end=\"2022-03-23\")"
   ]
  },
  {
   "cell_type": "code",
   "execution_count": 18,
   "id": "e7d5aea3",
   "metadata": {},
   "outputs": [],
   "source": [
    "window = 252\n",
    "df['rolling max'] = df['Adj Close'].rolling(window,min_periods = 1).max()\n",
    "df['daily drawdown'] = (df['Adj Close']/df['rolling max']) - 1\n",
    "df['max daily drawdown'] = df['daily drawdown'].rolling(window, min_periods=1).min()"
   ]
  },
  {
   "cell_type": "code",
   "execution_count": 19,
   "id": "7d9c5c9d",
   "metadata": {},
   "outputs": [
    {
     "data": {
      "text/html": [
       "<div>\n",
       "<style scoped>\n",
       "    .dataframe tbody tr th:only-of-type {\n",
       "        vertical-align: middle;\n",
       "    }\n",
       "\n",
       "    .dataframe tbody tr th {\n",
       "        vertical-align: top;\n",
       "    }\n",
       "\n",
       "    .dataframe thead th {\n",
       "        text-align: right;\n",
       "    }\n",
       "</style>\n",
       "<table border=\"1\" class=\"dataframe\">\n",
       "  <thead>\n",
       "    <tr style=\"text-align: right;\">\n",
       "      <th></th>\n",
       "      <th>Open</th>\n",
       "      <th>High</th>\n",
       "      <th>Low</th>\n",
       "      <th>Close</th>\n",
       "      <th>Adj Close</th>\n",
       "      <th>Volume</th>\n",
       "      <th>max drawdown</th>\n",
       "      <th>rolling max</th>\n",
       "      <th>daily drawdown</th>\n",
       "      <th>max daily drawdown</th>\n",
       "    </tr>\n",
       "    <tr>\n",
       "      <th>Date</th>\n",
       "      <th></th>\n",
       "      <th></th>\n",
       "      <th></th>\n",
       "      <th></th>\n",
       "      <th></th>\n",
       "      <th></th>\n",
       "      <th></th>\n",
       "      <th></th>\n",
       "      <th></th>\n",
       "      <th></th>\n",
       "    </tr>\n",
       "  </thead>\n",
       "  <tbody>\n",
       "    <tr>\n",
       "      <th>2007-01-03</th>\n",
       "      <td>142.250000</td>\n",
       "      <td>142.860001</td>\n",
       "      <td>140.570007</td>\n",
       "      <td>141.369995</td>\n",
       "      <td>104.752144</td>\n",
       "      <td>94807600</td>\n",
       "      <td>104.752144</td>\n",
       "      <td>104.752144</td>\n",
       "      <td>0.000000</td>\n",
       "      <td>0.000000</td>\n",
       "    </tr>\n",
       "    <tr>\n",
       "      <th>2007-01-04</th>\n",
       "      <td>141.229996</td>\n",
       "      <td>142.050003</td>\n",
       "      <td>140.610001</td>\n",
       "      <td>141.669998</td>\n",
       "      <td>104.974457</td>\n",
       "      <td>69620600</td>\n",
       "      <td>104.974457</td>\n",
       "      <td>104.974457</td>\n",
       "      <td>0.000000</td>\n",
       "      <td>0.000000</td>\n",
       "    </tr>\n",
       "    <tr>\n",
       "      <th>2007-01-05</th>\n",
       "      <td>141.330002</td>\n",
       "      <td>141.399994</td>\n",
       "      <td>140.380005</td>\n",
       "      <td>140.539993</td>\n",
       "      <td>104.137169</td>\n",
       "      <td>76645300</td>\n",
       "      <td>104.974457</td>\n",
       "      <td>104.974457</td>\n",
       "      <td>-0.007976</td>\n",
       "      <td>-0.007976</td>\n",
       "    </tr>\n",
       "    <tr>\n",
       "      <th>2007-01-08</th>\n",
       "      <td>140.820007</td>\n",
       "      <td>141.410004</td>\n",
       "      <td>140.250000</td>\n",
       "      <td>141.190002</td>\n",
       "      <td>104.618767</td>\n",
       "      <td>71655000</td>\n",
       "      <td>104.974457</td>\n",
       "      <td>104.974457</td>\n",
       "      <td>-0.003388</td>\n",
       "      <td>-0.007976</td>\n",
       "    </tr>\n",
       "    <tr>\n",
       "      <th>2007-01-09</th>\n",
       "      <td>141.309998</td>\n",
       "      <td>141.600006</td>\n",
       "      <td>140.399994</td>\n",
       "      <td>141.070007</td>\n",
       "      <td>104.529839</td>\n",
       "      <td>75680100</td>\n",
       "      <td>104.974457</td>\n",
       "      <td>104.974457</td>\n",
       "      <td>-0.004235</td>\n",
       "      <td>-0.007976</td>\n",
       "    </tr>\n",
       "  </tbody>\n",
       "</table>\n",
       "</div>"
      ],
      "text/plain": [
       "                  Open        High         Low       Close   Adj Close  \\\n",
       "Date                                                                     \n",
       "2007-01-03  142.250000  142.860001  140.570007  141.369995  104.752144   \n",
       "2007-01-04  141.229996  142.050003  140.610001  141.669998  104.974457   \n",
       "2007-01-05  141.330002  141.399994  140.380005  140.539993  104.137169   \n",
       "2007-01-08  140.820007  141.410004  140.250000  141.190002  104.618767   \n",
       "2007-01-09  141.309998  141.600006  140.399994  141.070007  104.529839   \n",
       "\n",
       "              Volume  max drawdown  rolling max  daily drawdown  \\\n",
       "Date                                                              \n",
       "2007-01-03  94807600    104.752144   104.752144        0.000000   \n",
       "2007-01-04  69620600    104.974457   104.974457        0.000000   \n",
       "2007-01-05  76645300    104.974457   104.974457       -0.007976   \n",
       "2007-01-08  71655000    104.974457   104.974457       -0.003388   \n",
       "2007-01-09  75680100    104.974457   104.974457       -0.004235   \n",
       "\n",
       "            max daily drawdown  \n",
       "Date                            \n",
       "2007-01-03            0.000000  \n",
       "2007-01-04            0.000000  \n",
       "2007-01-05           -0.007976  \n",
       "2007-01-08           -0.007976  \n",
       "2007-01-09           -0.007976  "
      ]
     },
     "execution_count": 19,
     "metadata": {},
     "output_type": "execute_result"
    }
   ],
   "source": [
    "df.head()"
   ]
  },
  {
   "cell_type": "code",
   "execution_count": 20,
   "id": "78253a7a",
   "metadata": {},
   "outputs": [],
   "source": [
    "import matplotlib.pyplot as plt"
   ]
  },
  {
   "cell_type": "code",
   "execution_count": 23,
   "id": "e57402d9",
   "metadata": {},
   "outputs": [
    {
     "data": {
      "image/png": "[encoded data removed]",
      "text/plain": [
       "<Figure size 432x288 with 1 Axes>"
      ]
     },
     "metadata": {
      "needs_background": "light"
     },
     "output_type": "display_data"
    }
   ],
   "source": [
    "plt.plot(df['daily drawdown'], label = 'daily dd')\n",
    "plt.plot(df['max daily drawdown'], label = 'max dd')\n",
    "plt.legend()\n",
    "plt.show()"
   ]
  },
  {
   "cell_type": "markdown",
   "id": "795bba21",
   "metadata": {},
   "source": [
    "## Participation"
   ]
  },
  {
   "cell_type": "code",
   "execution_count": null,
   "id": "bbee2898",
   "metadata": {},
   "outputs": [],
   "source": []
  }
 ],
 "metadata": {
  "kernelspec": {
   "display_name": "Python 3 (ipykernel)",
   "language": "python",
   "name": "python3"
  },
  "language_info": {
   "codemirror_mode": {
    "name": "ipython",
    "version": 3
   },
   "file_extension": ".py",
   "mimetype": "text/x-python",
   "name": "python",
   "nbconvert_exporter": "python",
   "pygments_lexer": "ipython3",
   "version": "3.8.12"
  }
 },
 "nbformat": 4,
 "nbformat_minor": 5
}
